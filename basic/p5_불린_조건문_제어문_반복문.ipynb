{
 "cells": [
  {
   "cell_type": "markdown",
   "metadata": {},
   "source": [
    "## 흐름 제어 \n",
    "\n",
    "- 코드의 흐름을 변경하려면(분기, 반복 등)\n",
    "- 조건을 체크 >> 참, 거짓에 의해 (판정) 흐름을 변경 \n",
    "- 판정 >> 결론은 블린 (True / False)\n",
    "- 판정이 작성된 코드가 조건식\n",
    "\n",
    "- 조건문, 반복문 제어문 식\n",
    "    - 조건식의 결론 => 참이냐 거짓이냐?\n",
    "        - False 상황 : 0, 0.0, [], {}, (), None(값이 없다), 기타 조건문의 결과(비교, 등등)\n",
    "    - 조건식을 가지고 상황따라 움직이는 방식 : 조건문\n",
    "        - if \n",
    "    - 반복문 : 반복 작업 \n",
    "        - for, while \n",
    "=> 여기까지의 지식으로 프로그램 작성 : 절차적 프로그램"
   ]
  },
  {
   "cell_type": "code",
   "execution_count": 2,
   "metadata": {},
   "outputs": [
    {
     "data": {
      "text/plain": [
       "(True, False, True, False, False, True)"
      ]
     },
     "execution_count": 2,
     "metadata": {},
     "output_type": "execute_result"
    }
   ],
   "source": [
    "# 조건식 결론 case1\n",
    "1600 > 1500, 1600 < 1500, 1600 >= 1500, 1600 <= 1500, 1600 ==1500, 1600 != 1500"
   ]
  },
  {
   "cell_type": "code",
   "execution_count": null,
   "metadata": {},
   "outputs": [],
   "source": [
    "#요구사항에서 조건 상황이 몇 개인지 체크하여 구현 \n",
    "# if\n",
    "# if ~ elif... ~ else\n",
    "#if ~ else\n",
    "#if ~ elif\n",
    "#if ~ elif ~ elif..."
   ]
  },
  {
   "cell_type": "code",
   "execution_count": null,
   "metadata": {},
   "outputs": [],
   "source": [
    "#커피값을 입력받아서 1500원이상이면 거스름돈을 줘라\n",
    "# 내용은 거스름돈(받은 금액-1500)은 xx원 입니다.\n"
   ]
  },
  {
   "cell_type": "code",
   "execution_count": 6,
   "metadata": {},
   "outputs": [
    {
     "name": "stdout",
     "output_type": "stream",
     "text": [
      "커피값을 주세요1600\n"
     ]
    },
    {
     "data": {
      "text/plain": [
       "1600"
      ]
     },
     "execution_count": 6,
     "metadata": {},
     "output_type": "execute_result"
    }
   ],
   "source": [
    "#1.커피값을 입력 받아서 (정수값 수치로 잘 넣는다고 전제)\n",
    "# 값의 유효성을 체크하지 않겠다.\n",
    "\n",
    "coffee_price = int(input('커피값을 주세요'))\n",
    "coffee_price"
   ]
  },
  {
   "cell_type": "code",
   "execution_count": 7,
   "metadata": {},
   "outputs": [],
   "source": [
    "#2.1500원 이상이면 >> 조건 1개\n",
    "# 문법 >> if 조건식: \n",
    "# > < >= <=  ==  != not(부정, False를 체크할 때 사용, 즉, 부정적 상황을 체크할 때 사용)\n",
    "# and, or  \n",
    "# : >> 코드블럭이 시작된다.\n",
    "# 코드블럭 >> 들여쓰기 후 진행(세로줄이 변경됨)\n",
    "# 코드블럭 >> 그 조건이 만족될 때만 수행하는 코드\n",
    "\n",
    "\n",
    "\n",
    "if coffee_price>=1500:\n",
    "    pass #아무것도\n",
    " 하지말고 일단 패스(구조잡을 때 씀)\n",
    "    \n",
    "   \n",
    "    \n",
    "    "
   ]
  },
  {
   "cell_type": "code",
   "execution_count": 18,
   "metadata": {},
   "outputs": [
    {
     "name": "stdout",
     "output_type": "stream",
     "text": [
      "거스름돈은 100원 입니다\n"
     ]
    }
   ],
   "source": [
    "# 3. 거스름돈을 줘라\n",
    "if coffee_price>=1500:\n",
    "    tmp = '거스름돈은 %s원 입니다' % (coffee_price-1500)\n",
    "    print(tmp)"
   ]
  },
  {
   "cell_type": "code",
   "execution_count": 1,
   "metadata": {},
   "outputs": [
    {
     "name": "stdout",
     "output_type": "stream",
     "text": [
      "커피값을 주세요1800\n",
      "거스름돈은 300원 입니다\n"
     ]
    }
   ],
   "source": [
    "coffee_price = int(input('커피값을 주세요'))\n",
    "if coffee_price>=1500:\n",
    "    tmp = '거스름돈은 %s원 입니다' % (coffee_price-1500)\n",
    "    print(tmp)\n",
    "    pass\n",
    "\n"
   ]
  },
  {
   "cell_type": "code",
   "execution_count": null,
   "metadata": {},
   "outputs": [],
   "source": [
    "coffee_price = int(input('커피값을 주세요'))\n",
    "\n",
    "# 조건문 코딩할 때 Tip!\n",
    "# 1. 조건을 이해하고, 그 수대로 틀을 구성한다\n",
    "# 2. 조건은 일단 다 배치한다.\n",
    "# 3. 인사이트를 이해하고 가장 빈도가 높은 순으로 조건을 재배치(최적화의 느낌)\n",
    "# 4. 제시되지 않은 조건은 가정한다.  \n",
    "\n",
    "coffee_price = int(input('커피값을 주세요'))\n",
    "if coffee_price>1500:\n",
    "    print('거스름돈은 %s원 입니다' % (coffee_price-1500))\n",
    "elif coffee_price==1500:\n",
    "    print('거스름돈은 %s원 입니다' % (coffee_price-1500))\n",
    "else:\n",
    "    print('부족한 금액은 %s원 입니다' % (1500-coffee_price))"
   ]
  },
  {
   "cell_type": "code",
   "execution_count": 2,
   "metadata": {},
   "outputs": [
    {
     "data": {
      "text/plain": [
       "'\\nif 조건식:\\n    코드블럭 내 코드: statements(수행문이라고도 부름)\\nelif 조건식:\\n    코드블럭 내 코드: statements\\nelse:\\n    코드블럭 내 코드: statements\\n'"
      ]
     },
     "execution_count": 2,
     "metadata": {},
     "output_type": "execute_result"
    }
   ],
   "source": [
    "'''\n",
    "if 조건식:\n",
    "    코드블럭 내 코드: statements(수행문이라고도 부름)\n",
    "elif 조건식:\n",
    "    코드블럭 내 코드: statements\n",
    "else:\n",
    "    코드블럭 내 코드: statements\n",
    "'''"
   ]
  },
  {
   "cell_type": "code",
   "execution_count": 3,
   "metadata": {},
   "outputs": [
    {
     "name": "stdout",
     "output_type": "stream",
     "text": [
      "밥 먹어라\n"
     ]
    }
   ],
   "source": [
    "# 조건식 결론 case2\n",
    "isRunning = False\n",
    "\n",
    "#부정상황을 체크할 때 사용\n",
    "#달리지 않는다면 밥 먹어라는 문구를 출력하시오.\n",
    "if not isRunning:\n",
    "    print(\"밥 먹어라\")"
   ]
  },
  {
   "cell_type": "code",
   "execution_count": 12,
   "metadata": {},
   "outputs": [
    {
     "data": {
      "text/plain": [
       "(True, False, False)"
      ]
     },
     "execution_count": 12,
     "metadata": {},
     "output_type": "execute_result"
    }
   ],
   "source": [
    "# 조건식 결론 case3\n",
    "\n",
    "#비트 연산\n",
    "# and는 둘 다 참이어야 참 >> 하나라도 거짓이면 거짓\n",
    "# 타 언어에서는 A&&B\n",
    "True and True,True and False,False and False"
   ]
  },
  {
   "cell_type": "code",
   "execution_count": 27,
   "metadata": {},
   "outputs": [
    {
     "data": {
      "text/plain": [
       "(True, True, False)"
      ]
     },
     "execution_count": 27,
     "metadata": {},
     "output_type": "execute_result"
    }
   ],
   "source": [
    "# or는 한개만 참이면 참이다\n",
    "# 둘 다 거짓이면 거짓\n",
    "# 타 언어에서는 A||B\n",
    "True or True, True or False, False or False"
   ]
  },
  {
   "cell_type": "markdown",
   "metadata": {},
   "source": [
    "#### 삼항 연산자 (장점 : 표현이 간결해진다.)\n",
    "- 파이썬은 없다\n",
    "- 타언어에서는 >> 변수 = 조건식 ? 참일 때 값 : 거짓일 때 값;\n",
    "- 상황은 두 개"
   ]
  },
  {
   "cell_type": "code",
   "execution_count": 25,
   "metadata": {},
   "outputs": [
    {
     "data": {
      "text/plain": [
       "'거스름돈 100원 입니다.'"
      ]
     },
     "execution_count": 25,
     "metadata": {},
     "output_type": "execute_result"
    }
   ],
   "source": [
    "# 결과 낼 변수 = 조건문 and 참일 때 실행될 문장 or 거짓일 때 실행될 문장\n",
    "a=1500\n",
    "b=1600\n",
    "msg = b>=a and '거스름돈 {cost}원 입니다.'.format(cost=b-a) or '%s원 부족' %(a-b)  \n",
    "msg"
   ]
  },
  {
   "cell_type": "code",
   "execution_count": 26,
   "metadata": {},
   "outputs": [
    {
     "data": {
      "text/plain": [
       "'200원 부족'"
      ]
     },
     "execution_count": 26,
     "metadata": {},
     "output_type": "execute_result"
    }
   ],
   "source": [
    "# 참일 때 되는 문장 if 조건문 else 거짓일 때 실행되는 문장\n",
    "a=1500\n",
    "b=1300\n",
    "msg ='거스름돈 {cost}원 입니다.'.format(cost=b-a) if  b>=a else '%s원 부족' %(a-b) \n",
    "msg"
   ]
  },
  {
   "cell_type": "markdown",
   "metadata": {},
   "source": [
    "### 반복문 (특정한 작업을 반복해서 수행한다.)\n",
    "\n",
    "- 사용 예 : 구구단\n",
    "- for : 지정된 횟수를 반복한다. 예) 5번 반복, 10번 반복  \n",
    "- while : 0~무한대, 반복을 안할수도, 무한대로(무한루프) 가능 \n",
    "    - 반복이 언제 끝날지 모르겠다. "
   ]
  },
  {
   "cell_type": "code",
   "execution_count": 6,
   "metadata": {},
   "outputs": [
    {
     "name": "stdout",
     "output_type": "stream",
     "text": [
      "5\n",
      "4\n",
      "3\n",
      "2\n",
      "1\n"
     ]
    }
   ],
   "source": [
    "# while \n",
    "# 재료 : 데이터 덩어리(연속 데이터 타입) \n",
    "\n",
    "\n",
    "'''\n",
    "while 조건: \n",
    "    statements(수행문)....\n",
    "'''\n",
    "\n",
    "# a의 멤버가 없을 때까지 반복해서\n",
    "\n",
    "a= [1,2,3,4,5]\n",
    "\n",
    "while (len(a)>0):\n",
    "\n",
    "    print(a.pop())\n",
    "    pass\n",
    "\n",
    "\n"
   ]
  },
  {
   "cell_type": "code",
   "execution_count": 15,
   "metadata": {},
   "outputs": [
    {
     "name": "stdout",
     "output_type": "stream",
     "text": [
      "5\n",
      "4\n",
      "3\n",
      "2\n",
      "1\n"
     ]
    }
   ],
   "source": [
    "# 타입값 자체를 조건식에 사용하면 0.0, 0, [], {}, () 상황이면 다 False\n",
    "\n",
    "a= [1,2,3,4,5]\n",
    "\n",
    "while a: # while 조건식에는 만족해야되는 값 넣어주기\n",
    "\n",
    "    print(a.pop())\n",
    "    pass\n"
   ]
  },
  {
   "cell_type": "code",
   "execution_count": 17,
   "metadata": {},
   "outputs": [
    {
     "name": "stdout",
     "output_type": "stream",
     "text": [
      "5\n",
      "4\n",
      "3\n",
      "2\n",
      "1\n"
     ]
    }
   ],
   "source": [
    "# 수행문이 한줄이라면 옆으로 쓸 수 있다\n",
    "a= [1,2,3,4,5]\n",
    "while a: print(a.pop())\n",
    "    "
   ]
  },
  {
   "cell_type": "code",
   "execution_count": 18,
   "metadata": {},
   "outputs": [
    {
     "name": "stdout",
     "output_type": "stream",
     "text": [
      "5\n",
      "4\n",
      "3\n",
      "2\n",
      "1\n",
      "중간에 중단없이 정상적으로 잘 반복 종료했다\n"
     ]
    }
   ],
   "source": [
    "# 반복문이 정상적으로 모두 수행하고 종료됐음을 알고 싶다면 \n",
    "# 여기서는 5번 모두 반복했다는 것을 알고싶다면\n",
    "a= [1,2,3,4,5]\n",
    "while a: \n",
    "    print(a.pop())\n",
    "\n",
    "else: # 정상적으로 모두 반복했다라는 것을 감지 \n",
    "    print('중간에 중단없이 정상적으로 잘 반복 종료했다')\n",
    "    "
   ]
  },
  {
   "cell_type": "markdown",
   "metadata": {},
   "source": [
    "#### 흐름제어 \n",
    "\n",
    "- break : if문과 같이 사용되거나 단독 사용가능\n",
    "    - 가장 가까운 반복문(while, for)을 빠져나간다.\n",
    "    - while or for 하고만 반응한다.\n",
    "    - break는 가장 가까운 문?에 걸림\n",
    "- continue : if문과 같이 사용되거나 단독 사용가능\n",
    "    - continue 이하 코드는 생략하고 바로 조건식으로 점프\n",
    "    - while or for 하고만 반응한다.\n",
    "    "
   ]
  },
  {
   "cell_type": "code",
   "execution_count": 3,
   "metadata": {},
   "outputs": [
    {
     "name": "stdout",
     "output_type": "stream",
     "text": [
      "5\n",
      "5\n",
      "4\n",
      "3\n",
      "3\n",
      "2\n",
      "1\n",
      "1\n",
      "중간에 중단없이 정상적으로 잘 반복 종료했다\n"
     ]
    }
   ],
   "source": [
    "\n",
    "a= [1,2,3,4,5]\n",
    "while a: \n",
    "    tmp = a.pop()\n",
    "    print(tmp)\n",
    "    if tmp%2 == 0: # 짝수이면\n",
    "        continue\n",
    "    print(tmp)\n",
    "    if len(a) == 1: \n",
    "        break\n",
    "\n",
    "else: # 정상적으로 모두 반복했다라는 것을 감지 \n",
    "    print('중간에 중단없이 정상적으로 잘 반복 종료했다')\n",
    "    "
   ]
  },
  {
   "cell_type": "code",
   "execution_count": 21,
   "metadata": {},
   "outputs": [
    {
     "name": "stdout",
     "output_type": "stream",
     "text": [
      "5\n",
      "4\n",
      "4\n",
      "3\n",
      "2\n",
      "2\n"
     ]
    }
   ],
   "source": [
    "a= [1,2,3,4,5]\n",
    "while a: \n",
    "    tmp = a.pop()\n",
    "    print(tmp)\n",
    "    if tmp%2 == 1: # 홀수이면\n",
    "        continue\n",
    "    print(tmp)\n",
    "    if len(a) == 1: \n",
    "        break\n",
    "\n",
    "else: # 정상적으로 모두 반복했다라는 것을 감지 \n",
    "    print('중간에 중단없이 정상적으로 잘 반복 종료했다')"
   ]
  },
  {
   "cell_type": "markdown",
   "metadata": {},
   "source": [
    "### for"
   ]
  },
  {
   "cell_type": "code",
   "execution_count": null,
   "metadata": {},
   "outputs": [],
   "source": [
    "#for ~ each 방식 or for ~ in 방식\n",
    "#파이썬은 이 두 방식만 존재함\n",
    "'''\n",
    "for 데이터 한 개(멤버) in 데이터덩어리(연속데이터타입):\n",
    "    수행문\n",
    "\n",
    "'''"
   ]
  },
  {
   "cell_type": "code",
   "execution_count": 22,
   "metadata": {},
   "outputs": [
    {
     "name": "stdout",
     "output_type": "stream",
     "text": [
      "1\n",
      "2\n",
      "3\n",
      "4\n",
      "5\n"
     ]
    }
   ],
   "source": [
    "a = [1,2,3,4,5]\n",
    "for n in a:\n",
    "    print(n)\n",
    "    "
   ]
  },
  {
   "cell_type": "code",
   "execution_count": 23,
   "metadata": {},
   "outputs": [
    {
     "name": "stdout",
     "output_type": "stream",
     "text": [
      "(1, 2)\n",
      "(3, 4)\n",
      "(5, 6)\n"
     ]
    }
   ],
   "source": [
    "a = [(1,2), (3,4), (5,6)]\n",
    "for n in a:\n",
    "    print(n)\n",
    "    "
   ]
  },
  {
   "cell_type": "code",
   "execution_count": 24,
   "metadata": {},
   "outputs": [
    {
     "name": "stdout",
     "output_type": "stream",
     "text": [
      "1 2\n",
      "3 4\n",
      "5 6\n"
     ]
    }
   ],
   "source": [
    "# 데이터의 형태에 따라 받아주는 변수의 개수, 형태는 조정 \n",
    "a = [(1,2), (3,4), (5,6)]\n",
    "for n,m in a:\n",
    "    print(n,m)"
   ]
  },
  {
   "cell_type": "code",
   "execution_count": 5,
   "metadata": {},
   "outputs": [
    {
     "name": "stdout",
     "output_type": "stream",
     "text": [
      "{'code': ['USD', 'KOR'], 'price': 1180}\n",
      "{'code': 'EUR', 'price': 1430}\n"
     ]
    }
   ],
   "source": [
    "a = [\n",
    "    {\n",
    "    # 한 키에 값을 여러 개 넣어줄 때는 값을 리스트 형식으로 넣어줘야 됨 \n",
    "    'code' : ['USD', 'KOR'], \n",
    "        \n",
    "    'price' : 1180\n",
    "    },\n",
    "    \n",
    "    {\n",
    "        'code' : 'EUR',\n",
    "    'price' : 1430\n",
    "    },\n",
    "]\n",
    "\n",
    "for n in a:\n",
    "    print(n)\n",
    "    "
   ]
  },
  {
   "cell_type": "code",
   "execution_count": 47,
   "metadata": {},
   "outputs": [
    {
     "data": {
      "text/plain": [
       "[{'code': 'USD', 'price': 1180}, {'code': 'EUR', 'price': 1430}]"
      ]
     },
     "execution_count": 47,
     "metadata": {},
     "output_type": "execute_result"
    }
   ],
   "source": [
    "a = [\n",
    "    {\n",
    "     'code' : 'USD',\n",
    "    'price' : 1180\n",
    "    },\n",
    "    \n",
    "    {\n",
    "        'code' : 'EUR',\n",
    "    'price' : 1430\n",
    "    },\n",
    "]\n",
    "a"
   ]
  },
  {
   "cell_type": "code",
   "execution_count": 41,
   "metadata": {},
   "outputs": [
    {
     "name": "stdout",
     "output_type": "stream",
     "text": [
      "code 값출력-> USD\n",
      "price 값출력-> 1180\n"
     ]
    }
   ],
   "source": [
    "for n in a[0]: #a[0] : 변수\n",
    "    print(n,'값출력->', a[0][n])"
   ]
  },
  {
   "cell_type": "code",
   "execution_count": 45,
   "metadata": {},
   "outputs": [
    {
     "name": "stdout",
     "output_type": "stream",
     "text": [
      "('code', 'USD')\n",
      "('price', 1180)\n"
     ]
    }
   ],
   "source": [
    "#딕셔너리.item() >> (키,값)이 묶여서 나옴\n",
    "\n",
    "for n in a[0].items():\n",
    "    print(n)"
   ]
  },
  {
   "cell_type": "code",
   "execution_count": 49,
   "metadata": {},
   "outputs": [
    {
     "name": "stdout",
     "output_type": "stream",
     "text": [
      "(0, 'code')\n",
      "(1, 'price')\n"
     ]
    }
   ],
   "source": [
    "# 딕셔너리에서 인덱스도 필요하다\n",
    "# 여러개의 연속데이터 타입을(사이즈가 동일) 접근해서 처리한다면 \n",
    "# 10개자리 리스트와, 딕셔너리를 같은 for문에서 같은 순서로 처리한다면\n",
    "# enumerate() >> 임의로 키 순서를 넣어준다.\n",
    "\n",
    "for n in enumerate(a[0]):\n",
    "    print(n)"
   ]
  },
  {
   "cell_type": "code",
   "execution_count": 51,
   "metadata": {},
   "outputs": [
    {
     "name": "stdout",
     "output_type": "stream",
     "text": [
      "1\n",
      "2\n",
      "3\n",
      "4\n"
     ]
    }
   ],
   "source": [
    "# 연속 수 >> range() >> numpy에서는 arrange()\n",
    "# range(시작 인덱스, 끝 인덱스, step)\n",
    "# range(시작인덱스, 끝 인덱스)\n",
    "# range(끝 인덱스)\n",
    "# 어떤 라이브러리던지 range라는 단어가 붙어 있으면 연속적인 수치, 날짜 등을 만드는 기능을 가지고 있다.\n",
    "\n",
    "for n in range(1,5):\n",
    "    print(n)\n",
    "# range(시작인덱스, 끝 인덱스) 사용하면, 출력되는 값 x의 범위는 '시작인덱스 <= x < 끝인덱스'"
   ]
  },
  {
   "cell_type": "code",
   "execution_count": 52,
   "metadata": {},
   "outputs": [
    {
     "name": "stdout",
     "output_type": "stream",
     "text": [
      "0\n",
      "1\n",
      "2\n",
      "3\n",
      "4\n"
     ]
    }
   ],
   "source": [
    "# range(끝 인덱스) 사용하면, 출력되는 값 x의 범위는 0<=x<끝인덱스\n",
    "for n in range(5):\n",
    "    print(n)"
   ]
  },
  {
   "cell_type": "code",
   "execution_count": 53,
   "metadata": {},
   "outputs": [
    {
     "name": "stdout",
     "output_type": "stream",
     "text": [
      "0 0\n",
      "0 1\n",
      "1 0\n",
      "1 1\n"
     ]
    }
   ],
   "source": [
    "for n in range(2):\n",
    "    for m in range(2):\n",
    "         print(n,m)"
   ]
  },
  {
   "cell_type": "code",
   "execution_count": 54,
   "metadata": {},
   "outputs": [
    {
     "name": "stdout",
     "output_type": "stream",
     "text": [
      "0 0 0\n",
      "0 1 0\n",
      "1 0 0\n",
      "1 1 1\n"
     ]
    }
   ],
   "source": [
    "for n in range(2):\n",
    "    for m in range(2):\n",
    "         print(n,m,n and m) #이 때 참은 1, 거짓은 0"
   ]
  },
  {
   "cell_type": "code",
   "execution_count": 55,
   "metadata": {},
   "outputs": [
    {
     "name": "stdout",
     "output_type": "stream",
     "text": [
      "0 0 0\n",
      "0 1 1\n",
      "1 0 1\n",
      "1 1 1\n"
     ]
    }
   ],
   "source": [
    "for n in range(2):\n",
    "    for m in range(2):\n",
    "         print(n,m,n or m)"
   ]
  },
  {
   "cell_type": "code",
   "execution_count": 58,
   "metadata": {},
   "outputs": [
    {
     "name": "stdout",
     "output_type": "stream",
     "text": [
      "0 0 비트연산-> 0 0 0\n",
      "0 1 비트연산-> 0 1 1\n",
      "1 0 비트연산-> 0 1 1\n",
      "1 1 비트연산-> 1 1 0\n"
     ]
    }
   ],
   "source": [
    "for n in range(2):\n",
    "    for m in range(2):\n",
    "         print(n,m,'비트연산->',n and m, n or m, n^m) # ^는 exclusive OR (XOR) >> 같으면 0, 다르면 1"
   ]
  },
  {
   "cell_type": "code",
   "execution_count": 77,
   "metadata": {},
   "outputs": [
    {
     "name": "stdout",
     "output_type": "stream",
     "text": [
      "\n",
      " 3 단\n",
      "---------------------\n",
      "\n",
      "\n",
      "3 X 1 =  3\n",
      "3 X 2 =  6\n",
      "3 X 3 =  9\n",
      "3 X 4 = 12\n",
      "3 X 5 = 15\n",
      "3 X 6 = 18\n",
      "3 X 7 = 21\n",
      "3 X 8 = 24\n",
      "3 X 9 = 27\n",
      "\n",
      " 4 단\n",
      "---------------------\n",
      "\n",
      "\n",
      "4 X 1 =  4\n",
      "4 X 2 =  8\n",
      "4 X 3 = 12\n",
      "4 X 4 = 16\n",
      "4 X 5 = 20\n",
      "4 X 6 = 24\n",
      "4 X 7 = 28\n",
      "4 X 8 = 32\n",
      "4 X 9 = 36\n",
      "\n",
      " 5 단\n",
      "---------------------\n",
      "\n",
      "\n",
      "5 X 1 =  5\n",
      "5 X 2 = 10\n",
      "5 X 3 = 15\n",
      "5 X 4 = 20\n",
      "5 X 5 = 25\n",
      "5 X 6 = 30\n",
      "5 X 7 = 35\n",
      "5 X 8 = 40\n",
      "5 X 9 = 45\n",
      "\n",
      " 6 단\n",
      "---------------------\n",
      "\n",
      "\n",
      "6 X 1 =  6\n",
      "6 X 2 = 12\n",
      "6 X 3 = 18\n",
      "6 X 4 = 24\n",
      "6 X 5 = 30\n",
      "6 X 6 = 36\n",
      "6 X 7 = 42\n",
      "6 X 8 = 48\n",
      "6 X 9 = 54\n",
      "\n",
      " 7 단\n",
      "---------------------\n",
      "\n",
      "\n",
      "7 X 1 =  7\n",
      "7 X 2 = 14\n",
      "7 X 3 = 21\n",
      "7 X 4 = 28\n",
      "7 X 5 = 35\n",
      "7 X 6 = 42\n",
      "7 X 7 = 49\n",
      "7 X 8 = 56\n",
      "7 X 9 = 63\n"
     ]
    }
   ],
   "source": [
    "# 요구사항 분석 >> 특징 체크\n",
    "# 실습\n",
    "# 3~7단 까지\n",
    "# 출력 형식은 3X1 = 3 ... 7X9=63\n",
    "# 출력 결과의 앞자리는 3~7까지 연속적인데, 9번씩 반복하여 출현한다.\n",
    "# 출력 결과 두번째 자리는 1~9까지 연속적인데, 1회씩 출현한다.\n",
    "# 단, 앞자리가 변경되면 다시 1~9까지 반복적으로 나타난다.\n",
    "\n",
    "for n in range(3, 8):\n",
    "    print('\\n',n,'단\\n---------------------\\n\\n')\n",
    "    for m in range(1,10):\n",
    "        #print문의 %뒤의 값 여러개일 때 괄호 안에 넣어 줘야 함 예) ( , , , ....)\n",
    "        print('%s X %s = %2s' % (n, m, n*m)) \n",
    "        #print(n,'X',m,'=',n*m) <<위의 결과와 동일하게 나옴"
   ]
  },
  {
   "cell_type": "markdown",
   "metadata": {},
   "source": [
    "#### XXX내포\n",
    "\n",
    "- 결과를 중심으로 코드를 펼친다는 관점에서\n",
    "- 연속데이터 타입 안에서 조건문, 반복문 등을 활용하여 간결하게 데이터를 구성할 수 있다.\n",
    "- 리스트 내포, 딕셔너리 내포 등등"
   ]
  },
  {
   "cell_type": "code",
   "execution_count": null,
   "metadata": {},
   "outputs": [],
   "source": [
    "# 3~7단 까지\n",
    "# 출력 형식은 3X1 = 3 ... 7X9=63 리스트로 담으시오\n",
    "\n",
    "# [결과 for~ for~]"
   ]
  },
  {
   "cell_type": "code",
   "execution_count": 78,
   "metadata": {},
   "outputs": [
    {
     "data": {
      "text/plain": [
       "['3 X 1 =  3',\n",
       " '3 X 2 =  6',\n",
       " '3 X 3 =  9',\n",
       " '3 X 4 = 12',\n",
       " '3 X 5 = 15',\n",
       " '3 X 6 = 18',\n",
       " '3 X 7 = 21',\n",
       " '3 X 8 = 24',\n",
       " '3 X 9 = 27',\n",
       " '4 X 1 =  4',\n",
       " '4 X 2 =  8',\n",
       " '4 X 3 = 12',\n",
       " '4 X 4 = 16',\n",
       " '4 X 5 = 20',\n",
       " '4 X 6 = 24',\n",
       " '4 X 7 = 28',\n",
       " '4 X 8 = 32',\n",
       " '4 X 9 = 36',\n",
       " '5 X 1 =  5',\n",
       " '5 X 2 = 10',\n",
       " '5 X 3 = 15',\n",
       " '5 X 4 = 20',\n",
       " '5 X 5 = 25',\n",
       " '5 X 6 = 30',\n",
       " '5 X 7 = 35',\n",
       " '5 X 8 = 40',\n",
       " '5 X 9 = 45',\n",
       " '6 X 1 =  6',\n",
       " '6 X 2 = 12',\n",
       " '6 X 3 = 18',\n",
       " '6 X 4 = 24',\n",
       " '6 X 5 = 30',\n",
       " '6 X 6 = 36',\n",
       " '6 X 7 = 42',\n",
       " '6 X 8 = 48',\n",
       " '6 X 9 = 54',\n",
       " '7 X 1 =  7',\n",
       " '7 X 2 = 14',\n",
       " '7 X 3 = 21',\n",
       " '7 X 4 = 28',\n",
       " '7 X 5 = 35',\n",
       " '7 X 6 = 42',\n",
       " '7 X 7 = 49',\n",
       " '7 X 8 = 56',\n",
       " '7 X 9 = 63']"
      ]
     },
     "execution_count": 78,
     "metadata": {},
     "output_type": "execute_result"
    }
   ],
   "source": [
    "'''\n",
    "for n in range(3, 8):\n",
    "    print('\\n',n,'단\\n---------------------\\n\\n')\n",
    "    for m in range(1,10):\n",
    "        print('%s X %s = %2s' % (n, m, n*m)) \n",
    "\n",
    "'''\n",
    "\n",
    "# 위의 구구단 실습 리스트 형식으로 담기\n",
    "\n",
    "[\n",
    "'%s X %s = %2s' % (n, m, n*m) \n",
    "     for n in range(3, 8) \n",
    "     for m in range(1,10)\n",
    "]\n",
    "        "
   ]
  },
  {
   "cell_type": "code",
   "execution_count": 80,
   "metadata": {},
   "outputs": [
    {
     "data": {
      "text/plain": [
       "[' 3',\n",
       " ' 6',\n",
       " ' 9',\n",
       " '12',\n",
       " '15',\n",
       " '18',\n",
       " '21',\n",
       " '24',\n",
       " '27',\n",
       " ' 4',\n",
       " ' 8',\n",
       " '12',\n",
       " '16',\n",
       " '20',\n",
       " '24',\n",
       " '28',\n",
       " '32',\n",
       " '36',\n",
       " ' 5',\n",
       " '10',\n",
       " '15',\n",
       " '20',\n",
       " '25',\n",
       " '30',\n",
       " '35',\n",
       " '40',\n",
       " '45',\n",
       " ' 6',\n",
       " '12',\n",
       " '18',\n",
       " '24',\n",
       " '30',\n",
       " '36',\n",
       " '42',\n",
       " '48',\n",
       " '54',\n",
       " ' 7',\n",
       " '14',\n",
       " '21',\n",
       " '28',\n",
       " '35',\n",
       " '42',\n",
       " '49',\n",
       " '56',\n",
       " '63']"
      ]
     },
     "execution_count": 80,
     "metadata": {},
     "output_type": "execute_result"
    }
   ],
   "source": [
    "# 결과만 필요할 때 \n",
    "[\n",
    "'%2s' % (n*m) # 리스트로 출력하고 싶은 결과\n",
    "     for n in range(3, 8) # for문\n",
    "     for m in range(1,10) # for문\n",
    "]\n",
    "     \n"
   ]
  },
  {
   "cell_type": "code",
   "execution_count": 95,
   "metadata": {},
   "outputs": [
    {
     "name": "stdout",
     "output_type": "stream",
     "text": [
      "[3, 6, 9, 12, 15, 18, 21, 24, 27, 4, 8, 12, 16, 20, 24, 28, 32, 36, 6, 12, 18, 24, 30, 36, 42, 48, 54, 7, 14, 21, 28, 35, 42, 49, 56, 63]\n"
     ]
    }
   ],
   "source": [
    "#5단만 빼고 출력하시오 (긍정으로 잡기)\n",
    "\n",
    "results = list()\n",
    "\n",
    "for n in range(3, 8):\n",
    "    if(n==5):\n",
    "         continue\n",
    "    for m in range(1,10):  #if랑 같은 줄에 맡춰서 작성하기 b/c 둘 다 첫번째 for의 수행문으로 들어가기 때문\n",
    "        results.append(n * m)\n",
    "\n",
    "print(results)\n",
    "\n",
    "\n",
    "     "
   ]
  },
  {
   "cell_type": "code",
   "execution_count": 98,
   "metadata": {},
   "outputs": [
    {
     "name": "stdout",
     "output_type": "stream",
     "text": [
      "[3, 6, 9, 12, 15, 18, 21, 24, 27, 4, 8, 12, 16, 20, 24, 28, 32, 36, 6, 12, 18, 24, 30, 36, 42, 48, 54, 7, 14, 21, 28, 35, 42, 49, 56, 63]\n"
     ]
    }
   ],
   "source": [
    "#5단만 빼고 출력하시오 (부정으로 잡기)\n",
    "\n",
    "results = list()\n",
    "\n",
    "for n in range(3, 8):\n",
    "    if(n!=5):\n",
    "         for m in range(1,10):  #이 줄 작성할 때 TAB키 눌러서 if문의 코드블럭(수행문)으로 넣어줘야 함.\n",
    "            results.append(n * m)\n",
    "\n",
    "print(results)"
   ]
  },
  {
   "cell_type": "code",
   "execution_count": 111,
   "metadata": {},
   "outputs": [
    {
     "name": "stdout",
     "output_type": "stream",
     "text": [
      "[3, 6, 9, 12, 15, 18, 21, 24, 27, 4, 8, 12, 16, 20, 24, 28, 32, 36, 6, 12, 18, 24, 30, 36, 42, 48, 54, 7, 14, 21, 28, 35, 42, 49, 56, 63]\n"
     ]
    }
   ],
   "source": [
    "tmp = [ n*m for n in range(3,8) if n!=5  for m in range(1,10)]\n",
    "print(tmp)"
   ]
  },
  {
   "cell_type": "markdown",
   "metadata": {},
   "source": [
    "#### 옵션\n",
    "- 문자열에서 정수 변환이 가능한지 체크\n"
   ]
  },
  {
   "cell_type": "code",
   "execution_count": 112,
   "metadata": {},
   "outputs": [],
   "source": [
    "a = '1'"
   ]
  },
  {
   "cell_type": "code",
   "execution_count": 114,
   "metadata": {},
   "outputs": [
    {
     "data": {
      "text/plain": [
       "(True, False, True)"
      ]
     },
     "execution_count": 114,
     "metadata": {},
     "output_type": "execute_result"
    }
   ],
   "source": [
    "a.isalnum(), a.isalpha(), a.isascii() "
   ]
  },
  {
   "cell_type": "code",
   "execution_count": 115,
   "metadata": {},
   "outputs": [
    {
     "data": {
      "text/plain": [
       "(True, True, True)"
      ]
     },
     "execution_count": 115,
     "metadata": {},
     "output_type": "execute_result"
    }
   ],
   "source": [
    "a.isdecimal(), a.isdigit(), a.isnumeric()"
   ]
  },
  {
   "cell_type": "code",
   "execution_count": 117,
   "metadata": {},
   "outputs": [
    {
     "name": "stdout",
     "output_type": "stream",
     "text": [
      "1\n",
      "True False True\n",
      "True True True\n",
      "--------------------\n",
      "1.1\n",
      "False False True\n",
      "False False False\n",
      "--------------------\n",
      "a\n",
      "True True True\n",
      "False False False\n",
      "--------------------\n"
     ]
    }
   ],
   "source": [
    "for b in ['1','1.1','a']:\n",
    "    print(b)\n",
    "    print(b.isalnum(), b.isalpha(), b.isascii())\n",
    "    print(b.isdecimal(), b.isdigit(), b.isnumeric())\n",
    "    print('-'*20)"
   ]
  },
  {
   "cell_type": "code",
   "execution_count": null,
   "metadata": {},
   "outputs": [],
   "source": []
  },
  {
   "cell_type": "code",
   "execution_count": null,
   "metadata": {},
   "outputs": [],
   "source": []
  },
  {
   "cell_type": "code",
   "execution_count": null,
   "metadata": {},
   "outputs": [],
   "source": []
  },
  {
   "cell_type": "code",
   "execution_count": null,
   "metadata": {},
   "outputs": [],
   "source": []
  },
  {
   "cell_type": "code",
   "execution_count": null,
   "metadata": {},
   "outputs": [],
   "source": []
  },
  {
   "cell_type": "code",
   "execution_count": null,
   "metadata": {},
   "outputs": [],
   "source": []
  },
  {
   "cell_type": "code",
   "execution_count": null,
   "metadata": {},
   "outputs": [],
   "source": []
  },
  {
   "cell_type": "code",
   "execution_count": null,
   "metadata": {},
   "outputs": [],
   "source": []
  }
 ],
 "metadata": {
  "kernelspec": {
   "display_name": "Python 3",
   "language": "python",
   "name": "python3"
  },
  "language_info": {
   "codemirror_mode": {
    "name": "ipython",
    "version": 3
   },
   "file_extension": ".py",
   "mimetype": "text/x-python",
   "name": "python",
   "nbconvert_exporter": "python",
   "pygments_lexer": "ipython3",
   "version": "3.7.4"
  }
 },
 "nbformat": 4,
 "nbformat_minor": 2
}
