{
 "cells": [
  {
   "cell_type": "markdown",
   "metadata": {},
   "source": [
    "## 흐름 제어 \n",
    "\n",
    "- 코드의 흐름을 변경하려면(분기, 반복 등)\n",
    "- 조건을 체크 >> 참, 거짓에 의해 (판정) 흐름을 변경 \n",
    "- 판정 >> 결론은 블린 (True / False)\n",
    "- 판정이 작성된 코드가 조건식\n",
    "\n",
    "- 조건문, 반복문 제어문 식\n",
    "    - 조건식의 결론 => 참이냐 거짓이냐?\n",
    "        - False 상황 : 0, 0.0, [], {}, (), None(값이 없다), 기타 조건문의 결과(비교, 등등)\n",
    "    - 조건식을 가지고 상황따라 움직이는 방식 : 조건문\n",
    "        - if \n",
    "    - 반복문 : 반복 작업 \n",
    "        - for, while \n",
    "=> 여기까지의 지식으로 프로그램 작성 : 절차적 프로그램"
   ]
  },
  {
   "cell_type": "code",
   "execution_count": null,
   "metadata": {},
   "outputs": [],
   "source": [
    "#요구사항에서 조건 상황이 몇 개인지 체크하여 구현 \n",
    "# if\n",
    "# if ~ elif... ~ else\n",
    "#if ~ else\n",
    "#if ~ elif\n",
    "#if ~ elif ~ elif..."
   ]
  },
  {
   "cell_type": "code",
   "execution_count": null,
   "metadata": {},
   "outputs": [],
   "source": [
    "#커피값을 입력받아서 1500원이상이면 거스름돈을 줘라\n",
    "# 내용은 거스름돈(받은 금액-1500)은 xx원 입니다.\n"
   ]
  },
  {
   "cell_type": "code",
   "execution_count": 6,
   "metadata": {},
   "outputs": [
    {
     "name": "stdout",
     "output_type": "stream",
     "text": [
      "커피값을 주세요1600\n"
     ]
    },
    {
     "data": {
      "text/plain": [
       "1600"
      ]
     },
     "execution_count": 6,
     "metadata": {},
     "output_type": "execute_result"
    }
   ],
   "source": [
    "#1.커피값을 입력 받아서 (정수값 수치로 잘 넣는다고 전제)\n",
    "# 값의 유효성을 체크하지 않겠다.\n",
    "\n",
    "coffee_price = int(input('커피값을 주세요'))\n",
    "coffee_price"
   ]
  },
  {
   "cell_type": "code",
   "execution_count": 7,
   "metadata": {},
   "outputs": [],
   "source": [
    "#2.1500원 이상이면 >> 조건 1개\n",
    "# 문법 >> if 조건식: \n",
    "# > < >= <=  == not(부정)\n",
    "\n",
    "# : >> 코드블럭이 시작된다.\n",
    "# 코드블럭 >> 들여쓰기 후 진행(세로줄이 변경됨)\n",
    "# 코드블럭 >> 그 조건이 만족될 때만 수행하는 코드\n",
    "\n",
    "\n",
    "\n",
    "if coffee_price>=1500:\n",
    "    pass #아무것도\n",
    " 하지말고 일단 패스(구조잡을 때 씀)\n",
    "    \n",
    "   \n",
    "    \n",
    "    "
   ]
  },
  {
   "cell_type": "code",
   "execution_count": 18,
   "metadata": {},
   "outputs": [
    {
     "name": "stdout",
     "output_type": "stream",
     "text": [
      "거스름돈은 100원 입니다\n"
     ]
    }
   ],
   "source": [
    "# 3. 거스름돈을 줘라\n",
    "if coffee_price>=1500:\n",
    "    tmp = '거스름돈은 %s원 입니다' % (coffee_price-1500)\n",
    "    print(tmp)"
   ]
  },
  {
   "cell_type": "code",
   "execution_count": 1,
   "metadata": {},
   "outputs": [
    {
     "name": "stdout",
     "output_type": "stream",
     "text": [
      "커피값을 주세요1800\n",
      "거스름돈은 300원 입니다\n"
     ]
    }
   ],
   "source": [
    "coffee_price = int(input('커피값을 주세요'))\n",
    "if coffee_price>=1500:\n",
    "    tmp = '거스름돈은 %s원 입니다' % (coffee_price-1500)\n",
    "    print(tmp)\n",
    "    pass\n",
    "\n"
   ]
  },
  {
   "cell_type": "code",
   "execution_count": 2,
   "metadata": {},
   "outputs": [
    {
     "data": {
      "text/plain": [
       "'\\nif 조건식:\\n    코드블럭 내 코드: statements(수행문이라고도 부름)\\nelif 조건식:\\n    코드블럭 내 코드: statements\\nelse:\\n    코드블럭 내 코드: statements\\n'"
      ]
     },
     "execution_count": 2,
     "metadata": {},
     "output_type": "execute_result"
    }
   ],
   "source": [
    "'''\n",
    "if 조건식:\n",
    "    코드블럭 내 코드: statements(수행문이라고도 부름)\n",
    "elif 조건식:\n",
    "    코드블럭 내 코드: statements\n",
    "else:\n",
    "    코드블럭 내 코드: statements\n",
    "'''"
   ]
  },
  {
   "cell_type": "code",
   "execution_count": null,
   "metadata": {},
   "outputs": [],
   "source": []
  },
  {
   "cell_type": "code",
   "execution_count": null,
   "metadata": {},
   "outputs": [],
   "source": []
  },
  {
   "cell_type": "code",
   "execution_count": null,
   "metadata": {},
   "outputs": [],
   "source": []
  },
  {
   "cell_type": "code",
   "execution_count": null,
   "metadata": {},
   "outputs": [],
   "source": []
  },
  {
   "cell_type": "code",
   "execution_count": null,
   "metadata": {},
   "outputs": [],
   "source": []
  },
  {
   "cell_type": "code",
   "execution_count": null,
   "metadata": {},
   "outputs": [],
   "source": []
  },
  {
   "cell_type": "code",
   "execution_count": null,
   "metadata": {},
   "outputs": [],
   "source": []
  },
  {
   "cell_type": "code",
   "execution_count": null,
   "metadata": {},
   "outputs": [],
   "source": []
  },
  {
   "cell_type": "code",
   "execution_count": null,
   "metadata": {},
   "outputs": [],
   "source": []
  },
  {
   "cell_type": "code",
   "execution_count": null,
   "metadata": {},
   "outputs": [],
   "source": []
  },
  {
   "cell_type": "code",
   "execution_count": null,
   "metadata": {},
   "outputs": [],
   "source": []
  },
  {
   "cell_type": "code",
   "execution_count": null,
   "metadata": {},
   "outputs": [],
   "source": []
  },
  {
   "cell_type": "code",
   "execution_count": null,
   "metadata": {},
   "outputs": [],
   "source": []
  },
  {
   "cell_type": "code",
   "execution_count": null,
   "metadata": {},
   "outputs": [],
   "source": []
  },
  {
   "cell_type": "code",
   "execution_count": null,
   "metadata": {},
   "outputs": [],
   "source": []
  },
  {
   "cell_type": "code",
   "execution_count": null,
   "metadata": {},
   "outputs": [],
   "source": []
  }
 ],
 "metadata": {
  "kernelspec": {
   "display_name": "Python 3",
   "language": "python",
   "name": "python3"
  },
  "language_info": {
   "codemirror_mode": {
    "name": "ipython",
    "version": 3
   },
   "file_extension": ".py",
   "mimetype": "text/x-python",
   "name": "python",
   "nbconvert_exporter": "python",
   "pygments_lexer": "ipython3",
   "version": "3.7.4"
  }
 },
 "nbformat": 4,
 "nbformat_minor": 2
}
