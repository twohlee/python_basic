{
 "cells": [
  {
   "cell_type": "markdown",
   "metadata": {},
   "source": [
    "### 수치형\n",
    "\n",
    "- 타입\n",
    "    - 단일 데이터 타입\n",
    "        - 수치형 : \n",
    "            - 정수(...,-1,0,-1,...) \n",
    "                - 십진수(10,11), 이진수(0 or 1), 8진수, 16진수(0xFF)\n",
    "            - 부동소수(-3.14, 0.0, 1.2 ..)"
   ]
  },
  {
   "cell_type": "markdown",
   "metadata": {},
   "source": [
    "### 변수\n",
    "\n",
    "- 값을 담는 그릇\n",
    "- 파이썬에서는 주소를 담는 그릇\n",
    "- 프로그램 세상에서는 객체라는 것은 반드시 주소를 가진다.\n",
    "- 파이썬에서 모든 것은 객체다.\n",
    "\n",
    "\n",
    "- 변수를 정의할 때는 앞에 어떤 타입의 이름도 쓰지 않는다."
   ]
  },
  {
   "cell_type": "code",
   "execution_count": 2,
   "metadata": {},
   "outputs": [
    {
     "data": {
      "text/plain": [
       "(1, int)"
      ]
     },
     "execution_count": 2,
     "metadata": {},
     "output_type": "execute_result"
    }
   ],
   "source": [
    "# a가 변수\n",
    "\n",
    "a = 1\n",
    "\n",
    "# a라는 변수에 객체 1의 주소값을 넣는다.\n",
    "# type()은 변수의 타입을 검사\n",
    "# 여기서 type()은 내장함수\n",
    "a, type(a)"
   ]
  },
  {
   "cell_type": "code",
   "execution_count": 3,
   "metadata": {},
   "outputs": [
    {
     "data": {
      "text/plain": [
       "(1.1, float)"
      ]
     },
     "execution_count": 3,
     "metadata": {},
     "output_type": "execute_result"
    }
   ],
   "source": [
    "a=1.1\n",
    "a, type(a)"
   ]
  },
  {
   "cell_type": "code",
   "execution_count": 4,
   "metadata": {},
   "outputs": [
    {
     "data": {
      "text/plain": [
       "('hi', str)"
      ]
     },
     "execution_count": 4,
     "metadata": {},
     "output_type": "execute_result"
    }
   ],
   "source": [
    "a= 'hi'\n",
    "a, type(a)"
   ]
  },
  {
   "cell_type": "code",
   "execution_count": 5,
   "metadata": {},
   "outputs": [],
   "source": [
    "# 1. 이렇게 값이 세팅될 때, 타입이 결정되는 형태 => 타입 추론 \n",
    "# 변수명 사용시 사전에 정의된 이름(예약어, 내장함수 명 등)은 절대로 사용하면 안된다.\n"
   ]
  },
  {
   "cell_type": "code",
   "execution_count": 24,
   "metadata": {
    "scrolled": true
   },
   "outputs": [
    {
     "data": {
      "text/plain": [
       "(19, 10)"
      ]
     },
     "execution_count": 24,
     "metadata": {},
     "output_type": "execute_result"
    }
   ],
   "source": [
    "# 속도라는 변수\n",
    "# 2. 변수명은 값의 의미를 명확하게 알게끔 네이밍\n",
    "# 변수명의 첫글자로 알파벳(대소문자), _ 가능\n",
    "# 두 번째 글자부터는 숫자도 가능 \n",
    "# 특수문자는 변수명 만들 때 사용하면 안됨\n",
    "\n",
    "speed = 19\n",
    "_abc = 10\n",
    "speed, _abc"
   ]
  },
  {
   "cell_type": "code",
   "execution_count": 1,
   "metadata": {},
   "outputs": [
    {
     "data": {
      "text/plain": [
       "3.14"
      ]
     },
     "execution_count": 1,
     "metadata": {},
     "output_type": "execute_result"
    }
   ],
   "source": [
    "#2-1 상수\n",
    "# 파이썬은 상수가 없다. (값이 한번 설정되면 변경 불가)\n",
    "# 이런 상수 개념은 고정값, 환경변수, 설정값 등등 지정\n",
    "# 타언어에서 쓰는 스타일로 변수명을 사용\n",
    "# 모두 대문자\n",
    "PI = 3.14\n",
    "PI"
   ]
  },
  {
   "cell_type": "code",
   "execution_count": 7,
   "metadata": {},
   "outputs": [],
   "source": [
    "# 3. 파이썬은 세로줄을 잘 맞춰야 한다.\n",
    "# 지금은 맨 앞줄로 바싹 붙여서 작성\n",
    "a = 1"
   ]
  },
  {
   "cell_type": "code",
   "execution_count": 8,
   "metadata": {},
   "outputs": [
    {
     "name": "stdout",
     "output_type": "stream",
     "text": [
      "1\n"
     ]
    }
   ],
   "source": [
    "# 4. 문장의 끝 \n",
    "# 파이썬은 한 문장의 끝(statement)에 아무것도 붙이지 않는다.\n",
    "a=1\n",
    "# 단, 한 줄에 여러 수행문을 넣고 싶다면 구분을 위해 ;를 붙인다. \n",
    "a=1; print(a)"
   ]
  },
  {
   "cell_type": "code",
   "execution_count": 10,
   "metadata": {},
   "outputs": [
    {
     "data": {
      "text/plain": [
       "(1, 2, 1.1)"
      ]
     },
     "execution_count": 10,
     "metadata": {},
     "output_type": "execute_result"
    }
   ],
   "source": [
    "a=1\n",
    "b=2\n",
    "c=1.1\n",
    "a,b,c"
   ]
  },
  {
   "cell_type": "code",
   "execution_count": 11,
   "metadata": {},
   "outputs": [
    {
     "data": {
      "text/plain": [
       "(128, -1, 0)"
      ]
     },
     "execution_count": 11,
     "metadata": {},
     "output_type": "execute_result"
    }
   ],
   "source": [
    "# 정수 -> 10진수\n",
    "a = 128\n",
    "b = -1\n",
    "c = 0\n",
    "a,b,c"
   ]
  },
  {
   "cell_type": "code",
   "execution_count": 12,
   "metadata": {},
   "outputs": [
    {
     "data": {
      "text/plain": [
       "(1.1, -1.1)"
      ]
     },
     "execution_count": 12,
     "metadata": {},
     "output_type": "execute_result"
    }
   ],
   "source": [
    "# 부동소수 \n",
    "a = 1.1\n",
    "b = -1.1\n",
    "a,b"
   ]
  },
  {
   "cell_type": "code",
   "execution_count": 13,
   "metadata": {},
   "outputs": [
    {
     "data": {
      "text/plain": [
       "255"
      ]
     },
     "execution_count": 13,
     "metadata": {},
     "output_type": "execute_result"
    }
   ],
   "source": [
    "# 정수의 16진수\n",
    "a = 0xFF\n",
    "a"
   ]
  },
  {
   "cell_type": "code",
   "execution_count": 15,
   "metadata": {},
   "outputs": [
    {
     "data": {
      "text/plain": [
       "(1, 2)"
      ]
     },
     "execution_count": 15,
     "metadata": {},
     "output_type": "execute_result"
    }
   ],
   "source": [
    "# 기본 연산 : 상식선의 연산자들이 정상적으로 구동되는지 체크\n",
    "a = 1\n",
    "b = 2\n",
    "a,b"
   ]
  },
  {
   "cell_type": "code",
   "execution_count": 17,
   "metadata": {},
   "outputs": [
    {
     "data": {
      "text/plain": [
       "(3, -1, 2, 0.5)"
      ]
     },
     "execution_count": 17,
     "metadata": {},
     "output_type": "execute_result"
    }
   ],
   "source": [
    "# 나누기는 타입이 부동소수로 변경되는구나\n",
    "a+b , a-b, a*b, a/b"
   ]
  },
  {
   "cell_type": "code",
   "execution_count": null,
   "metadata": {},
   "outputs": [],
   "source": [
    "# + - * / // %..... 연산자라고 한다."
   ]
  },
  {
   "cell_type": "code",
   "execution_count": 19,
   "metadata": {},
   "outputs": [
    {
     "data": {
      "text/plain": [
       "(3, 1, 1.75)"
      ]
     },
     "execution_count": 19,
     "metadata": {},
     "output_type": "execute_result"
    }
   ],
   "source": [
    "# 나머지, 나누고 난 값의 정수만, 나눈 값\n",
    "7%4 , 7 // 4, 7/4"
   ]
  },
  {
   "cell_type": "code",
   "execution_count": null,
   "metadata": {},
   "outputs": [],
   "source": [
    "# 일반적인 연산자는 대부분의 언어와 비슷하다."
   ]
  },
  {
   "cell_type": "code",
   "execution_count": 22,
   "metadata": {},
   "outputs": [
    {
     "data": {
      "text/plain": [
       "(20, 14)"
      ]
     },
     "execution_count": 22,
     "metadata": {},
     "output_type": "execute_result"
    }
   ],
   "source": [
    "# 연산자도 우선순위가 있다\n",
    "# *, / 가 + - 보다 우선한다 => 연산자 우선순위를 다 알면 좋으나,\n",
    "# 가로를 이용하여 () 우선순위 연산을 그룹으로 묶어준다.\n",
    "(1+2+3+4) *2 , 1+2+3+4 *2"
   ]
  },
  {
   "cell_type": "code",
   "execution_count": null,
   "metadata": {},
   "outputs": [],
   "source": []
  },
  {
   "cell_type": "code",
   "execution_count": null,
   "metadata": {},
   "outputs": [],
   "source": []
  }
 ],
 "metadata": {
  "kernelspec": {
   "display_name": "Python 3",
   "language": "python",
   "name": "python3"
  },
  "language_info": {
   "codemirror_mode": {
    "name": "ipython",
    "version": 3
   },
   "file_extension": ".py",
   "mimetype": "text/x-python",
   "name": "python",
   "nbconvert_exporter": "python",
   "pygments_lexer": "ipython3",
   "version": "3.7.4"
  }
 },
 "nbformat": 4,
 "nbformat_minor": 2
}
