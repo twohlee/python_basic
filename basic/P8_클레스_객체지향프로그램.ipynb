{
 "cells": [
  {
   "cell_type": "markdown",
   "metadata": {},
   "source": [
    "### class, 객체 \n",
    "\n",
    "- 용어 정리\n",
    "    - 개체 : 이 세상에 존재하는 모든 유/무형(사고, 생각 등)\n",
    "        - entity\n",
    "        - 전산에서 코드로 구현할 대상이 된다. \n",
    "    \n",
    "    - class\n",
    "        - 사람이라는 유형을 전산으로 구현해보자\n",
    "        - 전산상에서는 이를 구현할 수 있는 기준, 용어가 필요\n",
    "        - 이를 클래스라고 정의한다.\n",
    "        - 클래스는 개체를 구현하는 방법(룰, 문법)\n",
    "        - 클래스를 작성한 코드를 구현하면 클래스가 메모리에 로드 되는데, 이 때 이를 객체라고 부른다.\n",
    "    - 객체(Object) :\n",
    "        - 여러개 생성할 수 있다.\n",
    "        - 그런 동일한 객체들은 동일한 특성을 가진다.\n",
    "            - 눈이 2개, 입이 1개 등등\n",
    "            - 특성 => 문법적으로는 변수로 표현\n",
    "            - 멤버 변수\n",
    "        - 그런 동일한 객체들은 동일한 행동을 가진다\n",
    "            - 밥을 먹는다, 달린다 등등\n",
    "            - 행동 => 문법적으로는 함수로 표현\n",
    "            - 멤버 함수\n",
    "     - 객체를 중심으로(class를 중심으로) 코드가 작성, 관리 되면 객체지향프로그램(OOP)이라고 부른다.\n",
    "         - C++ 에서 처음 등장, Java에서 발전 시켰고, 이후는 대부분의 언어가 지원\n",
    "             - 상속성(부모, 자식 관계를 통해서, 상속을 받은 자식은 부모의 모든 기능을 그대로 사용 가능하고,                       자식은 재정의하거나 기능을 추가할 수 있다.) \n",
    "                >> 파이썬에서 의미있는 건 사실상 '상속성'밖에 없음\n",
    "      \n",
    "             - 캡슐화(데이터를 내부로 숨기고, 정해진 함수를 통해서 데이터를 읽고 쓰기를 할 수 있음)\n",
    "             \n",
    "             - 다형성\n",
    "             "
   ]
  },
  {
   "cell_type": "code",
   "execution_count": 1,
   "metadata": {},
   "outputs": [],
   "source": [
    "# 형식 : class 기술법"
   ]
  },
  {
   "cell_type": "markdown",
   "metadata": {},
   "source": [
    "- 클래스 내부에 존재하는 모든 함수의 1번 인자는\n",
    "- 클래스 자기 자신을 설명하는 키워드 >> self로 세팅된다\n",
    "- 타 언어에서는 this 라고 표현한다."
   ]
  },
  {
   "cell_type": "code",
   "execution_count": 2,
   "metadata": {},
   "outputs": [],
   "source": [
    "# 구성원을 일부 보여주면서 class를 정의\n",
    "\n",
    "class Person: # 함수 선언 \n",
    "    '''\n",
    "    멤버 변수\n",
    "    '''\n",
    "    name = '홍길동'\n",
    "    \n",
    "    '''\n",
    "    멤버 함수\n",
    "    '''\n",
    "    def getName():\n",
    "        print('Person의 이름입니다.')\n",
    "    '''\n",
    "    생성자\n",
    "    \n",
    "    '''"
   ]
  },
  {
   "cell_type": "code",
   "execution_count": 3,
   "metadata": {},
   "outputs": [
    {
     "data": {
      "text/plain": [
       "<__main__.Person at 0x1d371c7c908>"
      ]
     },
     "execution_count": 3,
     "metadata": {},
     "output_type": "execute_result"
    }
   ],
   "source": [
    "# 함수 >> 호출해야 존재하고\n",
    "# 클래스 >> 생성해야 존재한다\n",
    "\n",
    "# 클래스 생성하기\n",
    "# 클래스명([인자...])\n",
    "p = Person()\n",
    "p"
   ]
  },
  {
   "cell_type": "code",
   "execution_count": 4,
   "metadata": {},
   "outputs": [
    {
     "data": {
      "text/plain": [
       "'홍길동'"
      ]
     },
     "execution_count": 4,
     "metadata": {},
     "output_type": "execute_result"
    }
   ],
   "source": [
    "# p라는 객체의 멤버들을 접근하고 싶으면 .(도트 연산자) 사용\n",
    "p.name"
   ]
  },
  {
   "cell_type": "code",
   "execution_count": 5,
   "metadata": {},
   "outputs": [
    {
     "ename": "TypeError",
     "evalue": "getName() takes 0 positional arguments but 1 was given",
     "output_type": "error",
     "traceback": [
      "\u001b[1;31m---------------------------------------------------------------------------\u001b[0m",
      "\u001b[1;31mTypeError\u001b[0m                                 Traceback (most recent call last)",
      "\u001b[1;32m<ipython-input-5-147f15d4dd1f>\u001b[0m in \u001b[0;36m<module>\u001b[1;34m\u001b[0m\n\u001b[1;32m----> 1\u001b[1;33m \u001b[0mp\u001b[0m\u001b[1;33m.\u001b[0m\u001b[0mgetName\u001b[0m\u001b[1;33m(\u001b[0m\u001b[1;33m)\u001b[0m\u001b[1;33m\u001b[0m\u001b[1;33m\u001b[0m\u001b[0m\n\u001b[0m",
      "\u001b[1;31mTypeError\u001b[0m: getName() takes 0 positional arguments but 1 was given"
     ]
    }
   ],
   "source": [
    "p.getName()"
   ]
  },
  {
   "cell_type": "code",
   "execution_count": null,
   "metadata": {},
   "outputs": [],
   "source": [
    "class Person: # 함수 선언 \n",
    "    \n",
    "    name = '홍길동'\n",
    "    \n",
    "    \n",
    "    def getName(self):\n",
    "        print('Person의 이름입니다.')\n",
    "    '''\n",
    "    생성자\n",
    "    \n",
    "    '''"
   ]
  },
  {
   "cell_type": "code",
   "execution_count": null,
   "metadata": {},
   "outputs": [],
   "source": [
    "p = Person()"
   ]
  },
  {
   "cell_type": "code",
   "execution_count": null,
   "metadata": {},
   "outputs": [],
   "source": [
    "p.getName()"
   ]
  },
  {
   "cell_type": "markdown",
   "metadata": {},
   "source": [
    "- 생성자, constructor >> 형태는 함수이다.\n",
    "- 클래스를 보고 객체를 생성하는 실제적인 작업 진행\n",
    "- 기본 생성자(default constructor)는 생략 가능하다\n",
    "- 생성자의 기본 역할 중에 하나는 멤버 변수 초기화\n",
    "- 이름 : __init__"
   ]
  },
  {
   "cell_type": "code",
   "execution_count": null,
   "metadata": {},
   "outputs": [],
   "source": [
    "class Person: # 함수 선언 \n",
    "    \n",
    "    name = '홍길동'\n",
    "    \n",
    "    \n",
    "    def getName(self):\n",
    "        print('Person의 이름입니다.')\n",
    "    '''\n",
    "    생성자 >> 객체를 생성, 멤버 변수 초기화(옵션)\n",
    "    \n",
    "    '''\n",
    "    def __init__(self):\n",
    "        print('객체 생성')\n",
    "    "
   ]
  },
  {
   "cell_type": "code",
   "execution_count": null,
   "metadata": {},
   "outputs": [],
   "source": [
    "Person()"
   ]
  },
  {
   "cell_type": "code",
   "execution_count": null,
   "metadata": {},
   "outputs": [],
   "source": [
    "# 멤버 변수 초기화(옵션)\n",
    "\n",
    "class Person: # 함수 선언 \n",
    "    \n",
    "    name = None # 멤버 변수 name\n",
    "    \n",
    "    def getName(self):\n",
    "        \n",
    "        print('Person의 이름입니다.')\n",
    "\n",
    "    def __init__(self, name): # 지역 변수 name\n",
    "        print('객체 생성')\n",
    "        self.name = name # 멤버 변수 초기화\n",
    "        # self.name >> 클래스 내부에서 멤버들을 사용할 경우 self.변수, self.함수 \n",
    "    "
   ]
  },
  {
   "cell_type": "code",
   "execution_count": null,
   "metadata": {},
   "outputs": [],
   "source": [
    "p = Person('부산대역')"
   ]
  },
  {
   "cell_type": "code",
   "execution_count": null,
   "metadata": {},
   "outputs": [],
   "source": [
    "p.name"
   ]
  },
  {
   "cell_type": "code",
   "execution_count": null,
   "metadata": {},
   "outputs": [],
   "source": [
    "p.getName()"
   ]
  },
  {
   "cell_type": "code",
   "execution_count": 9,
   "metadata": {},
   "outputs": [],
   "source": [
    "# Person의 이름은 부산대역입니다. >> 구현해보기\n",
    "# 멤버 변수 초기화(옵션)\n",
    "\n",
    "class Person: # 함수 선언 \n",
    "    \n",
    "    name = None # 멤버 변수 name\n",
    "    \n",
    "    def getName(self):\n",
    "        \n",
    "        print('Person의 이름은 %s입니다.' % self.name)\n",
    "\n",
    "    def __init__(self, name): # 지역 변수 name\n",
    "        print('객체 생성')\n",
    "        self.name = name # 멤버 변수 초기화\n",
    "        # self.name >> 클래스 내부에서 멤버들을 사용할 경우 self.변수, self.함수 "
   ]
  },
  {
   "cell_type": "code",
   "execution_count": 10,
   "metadata": {},
   "outputs": [
    {
     "name": "stdout",
     "output_type": "stream",
     "text": [
      "객체 생성\n"
     ]
    }
   ],
   "source": [
    "p = Person('부산대역')"
   ]
  },
  {
   "cell_type": "code",
   "execution_count": 12,
   "metadata": {},
   "outputs": [
    {
     "name": "stdout",
     "output_type": "stream",
     "text": [
      "Person의 이름은 부산대역입니다.\n"
     ]
    }
   ],
   "source": [
    "p.getName()"
   ]
  },
  {
   "cell_type": "code",
   "execution_count": null,
   "metadata": {},
   "outputs": [],
   "source": [
    "# Person의 이름은 부산대역입니다. >> 구현해보기\n",
    "# 멤버 변수 초기화(옵션)\n",
    "\n",
    "class Person: # 함수 선언 \n",
    "    \n",
    "    name = None # 멤버 변수 name\n",
    "    \n",
    "    def getName(self):\n",
    "        \n",
    "        print('Person의 이름은 %s입니다.' % self.name)\n",
    "\n",
    "    def __init__(self, name): # 지역 변수 name\n",
    "        print('객체 생성')\n",
    "        self.name = name # 멤버 변수 초기화\n",
    "        # self.name >> 클래스 내부에서 멤버들을 사용할 경우 self.변수, self.함수 "
   ]
  },
  {
   "cell_type": "markdown",
   "metadata": {},
   "source": [
    "### 상속\n",
    "\n",
    "- A라는 클래스를 상속 받은 클래스가 B이다.\n",
    "- A는 부모, B는 자식, 자식은 여러개 일 수 있다.\n",
    "- 자식은 부모의 것을 그대로 물려 받고, 그것을 개선, 추가할 수 있다.\n",
    "- 다음 문구를 확인 : \n",
    "- 객체 지향 프로그램에서 부모, 자식 관계를 설명하는 명제 \n",
    "      A is a B >> F \n",
    "          >> A has a B가 맞는 표현\n",
    "      B is a A >> T\n",
    "\n",
    "- **자식은 부모의 것을 그대로 물려받고, 그것을 개선(재정의, Overriding), 추가할 수 있다.**\n",
    "- 상위로 올라가면 Abstract(추상화)\n",
    "\n",
    "\n"
   ]
  },
  {
   "cell_type": "code",
   "execution_count": 13,
   "metadata": {},
   "outputs": [],
   "source": [
    "# 모든 클래스의 슈퍼클래스는 Object \n",
    "# 이것은 보통 생략 가능\n",
    "# 특정 클래스를 상속 >> 클래스명(부모클래스명)\n",
    "class XMan(Person):\n",
    "    pass"
   ]
  },
  {
   "cell_type": "code",
   "execution_count": 16,
   "metadata": {},
   "outputs": [
    {
     "name": "stdout",
     "output_type": "stream",
     "text": [
      "객체 생성\n"
     ]
    }
   ],
   "source": [
    "x = XMan('철수')"
   ]
  },
  {
   "cell_type": "code",
   "execution_count": 17,
   "metadata": {},
   "outputs": [
    {
     "name": "stdout",
     "output_type": "stream",
     "text": [
      "Person의 이름은 철수입니다.\n"
     ]
    }
   ],
   "source": [
    "x.getName()"
   ]
  },
  {
   "cell_type": "code",
   "execution_count": 30,
   "metadata": {},
   "outputs": [],
   "source": [
    "class XMan(Person):\n",
    "    def eat(self):\n",
    "\n",
    "        print('나는 점심을 5분만에 다 먹는다. 어떤 메뉴던지')"
   ]
  },
  {
   "cell_type": "code",
   "execution_count": 31,
   "metadata": {},
   "outputs": [
    {
     "name": "stdout",
     "output_type": "stream",
     "text": [
      "객체 생성\n"
     ]
    }
   ],
   "source": [
    "x2 = XMan('철수')"
   ]
  },
  {
   "cell_type": "code",
   "execution_count": 32,
   "metadata": {},
   "outputs": [
    {
     "name": "stdout",
     "output_type": "stream",
     "text": [
      "나는 점심을 5분만에 다 먹는다. 어떤 메뉴던지\n"
     ]
    }
   ],
   "source": [
    "x2.eat()"
   ]
  },
  {
   "cell_type": "markdown",
   "metadata": {},
   "source": [
    "- Enemy 클래스 생성\n",
    "- Enemy 클래스는 \n",
    "    - SPEED, HP, EXP, LEVEL, COLOR, x, y 등 속성이 있다.\n",
    "    - move, attack, damage 등의 행동을 가지고 있다.\n",
    "    - 이런 클래스를 구현하시오.\n",
    "    - 전제하지 않는 것들은 가정하시오.\n",
    "    "
   ]
  },
  {
   "cell_type": "code",
   "execution_count": 71,
   "metadata": {},
   "outputs": [],
   "source": [
    "class Enemy:\n",
    "    \n",
    "    SPEED =0\n",
    "    HP = 0\n",
    "    EXP = 0\n",
    "    LEVEL= 0\n",
    "    COLOR = None\n",
    "    x = 0 \n",
    "    y =0\n",
    "    \n",
    "    \n",
    "    def move(self):\n",
    "        pass\n",
    "    \n",
    "    def attack(self):\n",
    "        pass\n",
    "    \n",
    "    def damage(self):\n",
    "        pass\n",
    "    \n",
    "    def makeEnemy(self):\n",
    "        pass\n",
    "           \n",
    "           \n",
    "    \n",
    "    def __init__(self):\n",
    "        pass\n",
    "\n",
    "        \n",
    "        \n",
    "    \n",
    "    \n",
    "    \n",
    "    \n",
    "    "
   ]
  },
  {
   "cell_type": "code",
   "execution_count": 73,
   "metadata": {},
   "outputs": [],
   "source": [
    "#e = Enemy(1,1) "
   ]
  },
  {
   "cell_type": "code",
   "execution_count": 72,
   "metadata": {},
   "outputs": [],
   "source": [
    "#e.makeObject(1,1)"
   ]
  },
  {
   "cell_type": "code",
   "execution_count": 74,
   "metadata": {},
   "outputs": [],
   "source": [
    "# 클래스는 새로운 자료구조를 정의하는 형태\n",
    "# 데이터뿐만 아니라, 행동(함수)도 같이 가질 수 있는 자료 구조\n",
    "\n",
    "class Enemy:\n",
    "    '''\n",
    "    -SPEED, HP, EXP, LEVEL, COLOR, x, y 등 속성이 있다.\n",
    "    - move, attack, damage 등의 행동을 가지고 있다.\n",
    "    - 이런 클래스를 구현하시오.\n",
    "    - 전제하지 않는 것들은 가정하시오.\n",
    "    '''\n",
    "    \n",
    "    # 멤버 변수\n",
    "    SPEED, HP, EXP, LEVEL, COLOR, x, y = (0,0,0,0,0,0,0)\n",
    "    # 멤버 함수\n",
    "    def move(self):pass\n",
    "    def attack(self):pass\n",
    "    def damage(self):pass\n",
    "    # 생성자\n",
    "    def __init__(self):pass"
   ]
  },
  {
   "cell_type": "code",
   "execution_count": 75,
   "metadata": {},
   "outputs": [
    {
     "data": {
      "text/plain": [
       "[<__main__.Enemy at 0x1d373c5e988>,\n",
       " <__main__.Enemy at 0x1d373c5ee48>,\n",
       " <__main__.Enemy at 0x1d373c5e808>,\n",
       " <__main__.Enemy at 0x1d373c5e048>,\n",
       " <__main__.Enemy at 0x1d373c5e948>,\n",
       " <__main__.Enemy at 0x1d373c5ec08>,\n",
       " <__main__.Enemy at 0x1d373c5eb88>,\n",
       " <__main__.Enemy at 0x1d373c5eb08>,\n",
       " <__main__.Enemy at 0x1d373c5eac8>,\n",
       " <__main__.Enemy at 0x1d373c5e148>,\n",
       " <__main__.Enemy at 0x1d373c5e7c8>,\n",
       " <__main__.Enemy at 0x1d373c5e888>,\n",
       " <__main__.Enemy at 0x1d373c5e708>,\n",
       " <__main__.Enemy at 0x1d373c5e648>,\n",
       " <__main__.Enemy at 0x1d373c5e5c8>,\n",
       " <__main__.Enemy at 0x1d373c5e508>,\n",
       " <__main__.Enemy at 0x1d373c20888>,\n",
       " <__main__.Enemy at 0x1d373c20c48>,\n",
       " <__main__.Enemy at 0x1d373c200c8>,\n",
       " <__main__.Enemy at 0x1d373c20148>,\n",
       " <__main__.Enemy at 0x1d373c20f08>,\n",
       " <__main__.Enemy at 0x1d373c207c8>,\n",
       " <__main__.Enemy at 0x1d373c20588>,\n",
       " <__main__.Enemy at 0x1d373c20708>,\n",
       " <__main__.Enemy at 0x1d373c20608>,\n",
       " <__main__.Enemy at 0x1d373c20988>,\n",
       " <__main__.Enemy at 0x1d373c20488>,\n",
       " <__main__.Enemy at 0x1d373c202c8>,\n",
       " <__main__.Enemy at 0x1d373c20ac8>,\n",
       " <__main__.Enemy at 0x1d373c208c8>,\n",
       " <__main__.Enemy at 0x1d373c20688>,\n",
       " <__main__.Enemy at 0x1d373c24608>,\n",
       " <__main__.Enemy at 0x1d373c24548>,\n",
       " <__main__.Enemy at 0x1d373c24cc8>,\n",
       " <__main__.Enemy at 0x1d373c24408>,\n",
       " <__main__.Enemy at 0x1d373c24c88>,\n",
       " <__main__.Enemy at 0x1d373c24288>,\n",
       " <__main__.Enemy at 0x1d373c24348>,\n",
       " <__main__.Enemy at 0x1d373c28408>,\n",
       " <__main__.Enemy at 0x1d373c28e08>,\n",
       " <__main__.Enemy at 0x1d373c285c8>,\n",
       " <__main__.Enemy at 0x1d373c28dc8>,\n",
       " <__main__.Enemy at 0x1d373c28bc8>,\n",
       " <__main__.Enemy at 0x1d373c28788>,\n",
       " <__main__.Enemy at 0x1d373c289c8>,\n",
       " <__main__.Enemy at 0x1d373c1b708>,\n",
       " <__main__.Enemy at 0x1d373c1b5c8>,\n",
       " <__main__.Enemy at 0x1d373c1bf88>,\n",
       " <__main__.Enemy at 0x1d373c1b8c8>,\n",
       " <__main__.Enemy at 0x1d373c1bf08>,\n",
       " <__main__.Enemy at 0x1d373bb4208>,\n",
       " <__main__.Enemy at 0x1d373bb4388>,\n",
       " <__main__.Enemy at 0x1d373bb4ac8>,\n",
       " <__main__.Enemy at 0x1d373bb4dc8>,\n",
       " <__main__.Enemy at 0x1d373c13ec8>,\n",
       " <__main__.Enemy at 0x1d373c13548>,\n",
       " <__main__.Enemy at 0x1d373c13308>,\n",
       " <__main__.Enemy at 0x1d373c4a1c8>,\n",
       " <__main__.Enemy at 0x1d373c4a208>,\n",
       " <__main__.Enemy at 0x1d373c4afc8>,\n",
       " <__main__.Enemy at 0x1d373c4a088>,\n",
       " <__main__.Enemy at 0x1d373c4a2c8>,\n",
       " <__main__.Enemy at 0x1d371ac6a08>,\n",
       " <__main__.Enemy at 0x1d373c42048>,\n",
       " <__main__.Enemy at 0x1d373c42608>,\n",
       " <__main__.Enemy at 0x1d373c42648>,\n",
       " <__main__.Enemy at 0x1d373c42548>,\n",
       " <__main__.Enemy at 0x1d373c424c8>,\n",
       " <__main__.Enemy at 0x1d373c426c8>,\n",
       " <__main__.Enemy at 0x1d373c425c8>,\n",
       " <__main__.Enemy at 0x1d373c42488>,\n",
       " <__main__.Enemy at 0x1d373c42308>,\n",
       " <__main__.Enemy at 0x1d373c429c8>,\n",
       " <__main__.Enemy at 0x1d373c42748>,\n",
       " <__main__.Enemy at 0x1d373c42108>,\n",
       " <__main__.Enemy at 0x1d37479ba48>,\n",
       " <__main__.Enemy at 0x1d37479bf48>,\n",
       " <__main__.Enemy at 0x1d37479b208>,\n",
       " <__main__.Enemy at 0x1d37479b948>,\n",
       " <__main__.Enemy at 0x1d37479bd08>,\n",
       " <__main__.Enemy at 0x1d37479b288>,\n",
       " <__main__.Enemy at 0x1d37479b748>,\n",
       " <__main__.Enemy at 0x1d373c46588>,\n",
       " <__main__.Enemy at 0x1d373c46988>,\n",
       " <__main__.Enemy at 0x1d373c46e48>,\n",
       " <__main__.Enemy at 0x1d373b3b448>,\n",
       " <__main__.Enemy at 0x1d3747b0c88>,\n",
       " <__main__.Enemy at 0x1d3747b0148>,\n",
       " <__main__.Enemy at 0x1d3747b0308>,\n",
       " <__main__.Enemy at 0x1d371b55dc8>,\n",
       " <__main__.Enemy at 0x1d3747ad7c8>,\n",
       " <__main__.Enemy at 0x1d3747adac8>,\n",
       " <__main__.Enemy at 0x1d3747ad808>,\n",
       " <__main__.Enemy at 0x1d3747ad388>,\n",
       " <__main__.Enemy at 0x1d3747ad548>,\n",
       " <__main__.Enemy at 0x1d3747ad108>,\n",
       " <__main__.Enemy at 0x1d3747adc48>,\n",
       " <__main__.Enemy at 0x1d3747ad4c8>,\n",
       " <__main__.Enemy at 0x1d3747ad588>,\n",
       " <__main__.Enemy at 0x1d3747ad608>]"
      ]
     },
     "execution_count": 75,
     "metadata": {},
     "output_type": "execute_result"
    }
   ],
   "source": [
    "# 적 100개 생성\n",
    "enemies = list()\n",
    "\n",
    "for n in range(100):\n",
    "    enemies.append(Enemy())\n",
    "\n",
    "enemies\n"
   ]
  },
  {
   "cell_type": "code",
   "execution_count": 77,
   "metadata": {},
   "outputs": [],
   "source": [
    "# 객체 100개를 모두 삭제\n",
    "\n",
    "for en in enemies:\n",
    "    del en\n",
    "enemies.clear()"
   ]
  },
  {
   "cell_type": "markdown",
   "metadata": {},
   "source": [
    "### 좌표를 부여하여 생성"
   ]
  },
  {
   "cell_type": "code",
   "execution_count": 83,
   "metadata": {},
   "outputs": [],
   "source": [
    "# Enemy클래스를 확장한 EnemyEx클래스 >> 상속(재정의, 추가)\n",
    "class EnemyEx(Enemy):\n",
    "    def __init__(self, x, y):\n",
    "        self.x = x\n",
    "        self.y = y"
   ]
  },
  {
   "cell_type": "code",
   "execution_count": 84,
   "metadata": {},
   "outputs": [
    {
     "data": {
      "text/plain": [
       "100"
      ]
     },
     "execution_count": 84,
     "metadata": {},
     "output_type": "execute_result"
    }
   ],
   "source": [
    "# 적 비행기의 최초 출현하는 y좌표\n",
    "std_y_start = 150\n",
    "# 적 비행기의 높이\n",
    "enemy_height = 10\n",
    "\n",
    "# 적 비행기의 최초 출현 x좌표\n",
    "std_x_start = 100\n",
    "# 적 비행기의 너비 \n",
    "enemy_width = 10\n",
    "\n",
    "for y in range(10): # y좌표\n",
    "    for x in range(10): # x좌표\n",
    "        # 객체 생성 \n",
    "        EnemyEx(std_x_start + x*enemy_width , std_y_start + y*enemy_height)\n",
    "        enemies.append(EnemyEx(std_x_start + x*enemy_width , std_y_start + y*enemy_height))\n",
    "        \n",
    "\n",
    "len(enemies)\n"
   ]
  },
  {
   "cell_type": "code",
   "execution_count": null,
   "metadata": {},
   "outputs": [],
   "source": []
  }
 ],
 "metadata": {
  "kernelspec": {
   "display_name": "Python 3",
   "language": "python",
   "name": "python3"
  },
  "language_info": {
   "codemirror_mode": {
    "name": "ipython",
    "version": 3
   },
   "file_extension": ".py",
   "mimetype": "text/x-python",
   "name": "python",
   "nbconvert_exporter": "python",
   "pygments_lexer": "ipython3",
   "version": "3.7.4"
  }
 },
 "nbformat": 4,
 "nbformat_minor": 2
}
