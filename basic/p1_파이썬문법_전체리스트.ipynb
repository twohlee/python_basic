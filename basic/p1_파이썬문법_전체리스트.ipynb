{
 "cells": [
  {
   "cell_type": "markdown",
   "metadata": {},
   "source": [
    "## 파이썬 기본 문법 목록\n",
    "\n",
    "- 타입\n",
    "    - 단일 데이터 타입\n",
    "        - 수치형 : \n",
    "            - 정수(...,-1,0,-1,...) \n",
    "                - 십진수(10,11), 이진수(0 or 1), 8진수, 16진수(0xFF)\n",
    "            - 부동소수(-3.14, 0.0, 1.2 ..)\n",
    "        - 문자열(단일형으로 분류하지만, 실체는 연속형)\n",
    "            - \"hello world\" , 'hello world', \"\"\", '''\n",
    "        \n",
    "        - 불린\n",
    "            - True(1), False(0) (이진 데이터라고도 함)\n",
    "            \n",
    "    - 연속 데이터 타입\n",
    "        - 리스트 : [] 순서(인덱스)가 있다. 값이 중복되도 됨\n",
    "        - 딕셔너리 : {} 순서 없다. 키와 값의 세트로 구성, 키는 중복 안됨\n",
    "        - 튜플 :() 순서 (인덱스)가 있다. 값 중복 됨, 단순 묶음, 수정 불가, 추가 불가\n",
    "        \n",
    "        - 집합 :{} 중복 없음(불가, 제거) \n",
    "       \n",
    "       ===데이터 분석\n",
    "        - 배열\n",
    "        - 시리즈\n",
    "        - 데이터프레임\n",
    "       \n",
    "       === 딥러닝\n",
    "        - 텐서\n",
    "    \n",
    "- 조건문, 반복문 제어문 식\n",
    "    - 조건식의 결론 => 참이냐 거짓이냐?\n",
    "        - False 상황 : 0, 0.0, [], {}, (), None(값이 없다), 기타 조건문의 결과(비교, 등등)\n",
    "    - 조건식을 가지고 상황따라 움직이는 방식 : 조건문\n",
    "        - if \n",
    "    - 반복문 : 반복 작업 \n",
    "        - for, while \n",
    "=> 여기까지의 지식으로 프로그램 작성 : 절차적 프로그램\n",
    "\n",
    "- 함수\n",
    "    - 내장함수, 외장함수, 람다함수, 커스텀함수(사용자 정의 함수)\n",
    "=> 여기까지의 지식으로 프로그램 작성 : 함수 지향적 프로그램\n",
    "\n",
    "- 클래스\n",
    "=> 여기까지의 지식으로 프로그램 작성 : 객체 지향적 프로그램\n",
    "\n",
    "\n",
    "- 모듈화, 모듈가져오기\n",
    "- 패키지\n",
    "- 예외처리\n"
   ]
  },
  {
   "cell_type": "code",
   "execution_count": null,
   "metadata": {},
   "outputs": [],
   "source": []
  },
  {
   "cell_type": "code",
   "execution_count": null,
   "metadata": {},
   "outputs": [],
   "source": []
  },
  {
   "cell_type": "code",
   "execution_count": null,
   "metadata": {},
   "outputs": [],
   "source": []
  },
  {
   "cell_type": "code",
   "execution_count": null,
   "metadata": {},
   "outputs": [],
   "source": []
  },
  {
   "cell_type": "code",
   "execution_count": null,
   "metadata": {},
   "outputs": [],
   "source": []
  },
  {
   "cell_type": "code",
   "execution_count": null,
   "metadata": {},
   "outputs": [],
   "source": []
  },
  {
   "cell_type": "code",
   "execution_count": null,
   "metadata": {},
   "outputs": [],
   "source": []
  },
  {
   "cell_type": "markdown",
   "metadata": {},
   "source": []
  }
 ],
 "metadata": {
  "kernelspec": {
   "display_name": "Python 3",
   "language": "python",
   "name": "python3"
  },
  "language_info": {
   "codemirror_mode": {
    "name": "ipython",
    "version": 3
   },
   "file_extension": ".py",
   "mimetype": "text/x-python",
   "name": "python",
   "nbconvert_exporter": "python",
   "pygments_lexer": "ipython3",
   "version": "3.7.4"
  }
 },
 "nbformat": 4,
 "nbformat_minor": 2
}
