{
 "cells": [
  {
   "cell_type": "markdown",
   "metadata": {},
   "source": [
    "### 패키지, 모듈\n",
    "\n",
    "- 파이썬에서 만들 수 있는 형태는 오직 모듈과 패키지 2개이다. \n",
    "    - 모듈 : *.py (확장자 py), 모듈 내부에는 변수, 함수, 클래스 등이 여러개 존재할 수 있다.  \n",
    "    \n",
    "    - 패키지 : 특정 기능을 가진 모듈들을 모아둔 디렉토리\n",
    "    \n",
    "- 실습 구조\n",
    "    - 현재 위치\n",
    "        L Mymath\n",
    "            L __init__.py\n",
    "            L metrix\n",
    "                L__init__.py\n",
    "                L mod.py\n",
    "         L P7_모듈화_모듈가여오기_패키지_예외처리.ipynb (시작점, 즉, entry point 부터 경로를 체크한다.)\n",
    "        \n",
    "    "
   ]
  },
  {
   "cell_type": "code",
   "execution_count": null,
   "metadata": {},
   "outputs": [],
   "source": []
  },
  {
   "cell_type": "markdown",
   "metadata": {},
   "source": [
    "### 모듈 가져오기 & 사용하기\n",
    "- case\n",
    "    - 내가 작성하는 코드에 남이 만든 모듈을 가져다가 사용 절차 \n",
    "        - 1.가져온다.\n",
    "        - 2.사용한다.\n",
    "    - from 패키지명.패키지명.....모듈명 import 변수, 함수, 클래스....\n",
    "    - from 패키지명.패키지명.....모듈명 import *\n",
    "    - from 패키지명.패키지명.....모듈명 import 변수 as 별칭  \n",
    "    <br>\n",
    "    - from 패키지명.패키지명...,패키지명 import 이하동문  \n",
    "    <br>\n",
    "    - from 모듈명 import 이하동문\n",
    "    <br>\n",
    "    - import 패키지명.패키지명....모듈명 as 별칭 \n",
    "    - import 패키지명.패키지명....패키지명 as 별칭\n",
    "    - import 모듈명\n"
   ]
  },
  {
   "cell_type": "code",
   "execution_count": null,
   "metadata": {},
   "outputs": [],
   "source": [
    "# 모듈 가져오기\n",
    "from MyMath.metrix.mod import PI, add, A"
   ]
  },
  {
   "cell_type": "code",
   "execution_count": null,
   "metadata": {},
   "outputs": [],
   "source": [
    "# from~ 사용하면, 사용한 코드를 보면 마치 내 코드처럼 사용된다.\n",
    "PI, add(1,2), A()"
   ]
  },
  {
   "cell_type": "code",
   "execution_count": null,
   "metadata": {},
   "outputs": [],
   "source": [
    "from MyMath.metrix.mod import PI, add"
   ]
  },
  {
   "cell_type": "code",
   "execution_count": null,
   "metadata": {},
   "outputs": [],
   "source": [
    "# 가져올게 너무 많아서 일일이 다 기술 못하고, 다 가져오는 경우\n",
    "from MyMath.metrix.mod import *"
   ]
  },
  {
   "cell_type": "code",
   "execution_count": null,
   "metadata": {},
   "outputs": [],
   "source": [
    "A()"
   ]
  },
  {
   "cell_type": "code",
   "execution_count": null,
   "metadata": {},
   "outputs": [],
   "source": [
    "from MyMath.metrix.mod import PI"
   ]
  },
  {
   "cell_type": "code",
   "execution_count": null,
   "metadata": {},
   "outputs": [],
   "source": [
    "# 가져온 요소들 중에 특정한 요소(변, 함, 클)의 이름을 별칭으로 대체\n",
    "#from MyMath.metrix.mod import PI as MPI"
   ]
  },
  {
   "cell_type": "code",
   "execution_count": null,
   "metadata": {},
   "outputs": [],
   "source": [
    "# 별칭을 부여하면 이전 이름을 사용 못한다.\n",
    "#MPI, PI"
   ]
  },
  {
   "cell_type": "code",
   "execution_count": null,
   "metadata": {},
   "outputs": [],
   "source": [
    "#경로를 패키지로만 지정하면 마지막 패키지에 대응하는 __init__.py 에서 가져온다.\n",
    "from MyMath.metrix import PI2\n",
    "PI2"
   ]
  },
  {
   "cell_type": "code",
   "execution_count": null,
   "metadata": {},
   "outputs": [],
   "source": [
    "from MyMath import PI3\n",
    "PI3"
   ]
  },
  {
   "cell_type": "code",
   "execution_count": null,
   "metadata": {},
   "outputs": [],
   "source": [
    "# 특정 모듈이 개발하면서 작성한 코드나, 단독 구동시 작동해야 하는 코드는 if __name__ ~ 내부로 처리해야함\n",
    "# 그 외의 것은 바깥에 두어도 된다.(정의하는 부분들)\n",
    "# 왜냐하면 from~ 을 수행하면 해당 모듈이 메모리에 로드된다.\n",
    "# 경우에 따라서는 코드가 실행될 수도 있으므로 주의를 해야함.\n",
    "\n",
    "# test5.py에서 확인 \n",
    "from game_nocomment2_func_ending import game_level\n",
    "game_level"
   ]
  },
  {
   "cell_type": "code",
   "execution_count": 7,
   "metadata": {},
   "outputs": [
    {
     "data": {
      "text/plain": [
       "(3.14, 3)"
      ]
     },
     "execution_count": 7,
     "metadata": {},
     "output_type": "execute_result"
    }
   ],
   "source": [
    "import MyMath.metrix.mod as m\n",
    "\n",
    "m.PI, m.add(1,2)"
   ]
  },
  {
   "cell_type": "code",
   "execution_count": null,
   "metadata": {},
   "outputs": [],
   "source": [
    "import MyMath "
   ]
  },
  {
   "cell_type": "code",
   "execution_count": 2,
   "metadata": {},
   "outputs": [
    {
     "name": "stdout",
     "output_type": "stream",
     "text": [
      "누군가가 나를 모듈로 불러서 특정 기능을 쓰려고 한다.\n",
      "{'A': 1, '2': 2, '3': 3, '4': 4, '5': 5, '6': 6, '7': 7, '8': 8, '9': 9, '10': 10, 'J': 11, 'Q': 12, 'K': -5}\n"
     ]
    }
   ],
   "source": [
    "import game_nocomment2_func_ending\n",
    "print(game_nocomment2_func_ending.score_table)"
   ]
  },
  {
   "cell_type": "code",
   "execution_count": 3,
   "metadata": {},
   "outputs": [
    {
     "name": "stdout",
     "output_type": "stream",
     "text": [
      "{'A': 1, '2': 2, '3': 3, '4': 4, '5': 5, '6': 6, '7': 7, '8': 8, '9': 9, '10': 10, 'J': 11, 'Q': 12, 'K': -5}\n"
     ]
    }
   ],
   "source": [
    "import game_nocomment2_func_ending as game\n",
    "print(game.score_table)"
   ]
  },
  {
   "cell_type": "code",
   "execution_count": null,
   "metadata": {},
   "outputs": [],
   "source": []
  },
  {
   "cell_type": "markdown",
   "metadata": {},
   "source": [
    "### 패키지"
   ]
  },
  {
   "cell_type": "code",
   "execution_count": null,
   "metadata": {},
   "outputs": [],
   "source": []
  },
  {
   "cell_type": "markdown",
   "metadata": {},
   "source": [
    "### 예외처리\n",
    "- 코드는 잠재적으로 오류를 가질 수 있다. \n",
    "- 이 때, s/w를 다운되지 않게 하고, 그 때의 오류 정보를 수집하고, 문제 없이 다음 단계로 진행시키게 하는 방법\n",
    "- => 예외처리\n",
    "- 모든 예외의 근본이 되는 Exception \n",
    "\n"
   ]
  },
  {
   "cell_type": "code",
   "execution_count": 12,
   "metadata": {},
   "outputs": [
    {
     "name": "stdout",
     "output_type": "stream",
     "text": [
      "<case1 : 예외 발생시>\n",
      "\n",
      "0\n",
      "1\n",
      "3 division by zero\n",
      "5\n",
      "6\n",
      "\n",
      "\n",
      "====================\n",
      "\n",
      "\n",
      "<case2 : 정상 시>\n",
      "\n",
      "0\n",
      "1\n",
      "2\n",
      "4\n",
      "5\n",
      "6\n"
     ]
    }
   ],
   "source": [
    "# case1) 예외 발생 시 코드 진행 확인 \n",
    "print('<case1 : 예외 발생시>\\n')\n",
    "print(0)\n",
    "try: # 예외가 발생할만한 코드를 감싼다.\n",
    "    print(1)\n",
    "    print(1/0)\n",
    "    print(2)\n",
    "except Exception as e: # 예외가 발생하면 호출됨, e는 Exception의 별칭 , 여기서 except는 타 언어에서 catch의 의미\n",
    "    print(3,e)\n",
    "else: # 예외없이 정상적으로 코드가 진행되면 호출, except가 발생하면 else의 statement는 실행되지 않음\n",
    "    print(4)\n",
    "finally: # 예외가 발생하든 말든 무조건 실행됨\n",
    "    print(5)\n",
    "print(6)\n",
    "\n",
    "print('\\n')\n",
    "print('='*20)\n",
    "print('\\n')\n",
    "\n",
    "# case2) 정상 시, 코드 진행 확인 \n",
    "print('<case2 : 정상 시>\\n')\n",
    "print(0)\n",
    "try: # 예외가 발생할만한 코드를 감싼다.\n",
    "    print(1)\n",
    "    print(2)\n",
    "except Exception as e: # 예외가 발생하면 호출됨, e는 Exception의 별칭 , 여기서 except는 타 언어에서 catch의 의미\n",
    "    print(3,e)\n",
    "else: # 예외없이 정상적으로 코드가 진행되면 호출, except가 발생하면 else의 statement는 실행되지 않음\n",
    "    print(4)\n",
    "finally: # 예외가 발생하든 말든 무조건 실행됨\n",
    "    print(5)\n",
    "print(6)"
   ]
  },
  {
   "cell_type": "code",
   "execution_count": null,
   "metadata": {},
   "outputs": [],
   "source": []
  },
  {
   "cell_type": "code",
   "execution_count": null,
   "metadata": {},
   "outputs": [],
   "source": []
  },
  {
   "cell_type": "code",
   "execution_count": null,
   "metadata": {},
   "outputs": [],
   "source": []
  },
  {
   "cell_type": "code",
   "execution_count": null,
   "metadata": {},
   "outputs": [],
   "source": []
  },
  {
   "cell_type": "code",
   "execution_count": null,
   "metadata": {},
   "outputs": [],
   "source": []
  },
  {
   "cell_type": "code",
   "execution_count": null,
   "metadata": {},
   "outputs": [],
   "source": []
  },
  {
   "cell_type": "code",
   "execution_count": null,
   "metadata": {},
   "outputs": [],
   "source": []
  },
  {
   "cell_type": "code",
   "execution_count": null,
   "metadata": {},
   "outputs": [],
   "source": []
  },
  {
   "cell_type": "code",
   "execution_count": null,
   "metadata": {},
   "outputs": [],
   "source": []
  },
  {
   "cell_type": "code",
   "execution_count": null,
   "metadata": {},
   "outputs": [],
   "source": []
  },
  {
   "cell_type": "code",
   "execution_count": null,
   "metadata": {},
   "outputs": [],
   "source": []
  },
  {
   "cell_type": "code",
   "execution_count": null,
   "metadata": {},
   "outputs": [],
   "source": []
  },
  {
   "cell_type": "code",
   "execution_count": null,
   "metadata": {},
   "outputs": [],
   "source": []
  },
  {
   "cell_type": "code",
   "execution_count": null,
   "metadata": {},
   "outputs": [],
   "source": []
  },
  {
   "cell_type": "code",
   "execution_count": null,
   "metadata": {},
   "outputs": [],
   "source": []
  },
  {
   "cell_type": "code",
   "execution_count": null,
   "metadata": {},
   "outputs": [],
   "source": []
  }
 ],
 "metadata": {
  "kernelspec": {
   "display_name": "Python 3",
   "language": "python",
   "name": "python3"
  },
  "language_info": {
   "codemirror_mode": {
    "name": "ipython",
    "version": 3
   },
   "file_extension": ".py",
   "mimetype": "text/x-python",
   "name": "python",
   "nbconvert_exporter": "python",
   "pygments_lexer": "ipython3",
   "version": "3.7.4"
  }
 },
 "nbformat": 4,
 "nbformat_minor": 2
}
