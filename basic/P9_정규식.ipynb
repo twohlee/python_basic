{
 "cells": [
  {
   "cell_type": "markdown",
   "metadata": {},
   "source": [
    "### 정규식\n",
    "\n",
    "- 정규 표현식\n",
    "- Regular Expression\n",
    "- 복잡한 문자열을 처리할 때 사용하는 기법\n",
    "    - 문자열에서 원하는 데이터만 추출, 가공, 삭제 >> 전처리/정제\n"
   ]
  },
  {
   "cell_type": "code",
   "execution_count": 1,
   "metadata": {},
   "outputs": [],
   "source": [
    "# 1. 모듈 가져오기\n",
    "\n",
    "import re"
   ]
  },
  {
   "cell_type": "markdown",
   "metadata": {},
   "source": [
    "- 메타문자(meta characters)  \n",
    "<br> : 다른 문자의 정보를 전달하기 위하여 프로그램이나 데이터에 끼워 넣는 문자\n",
    "    - 일반 표현 : |, ^, $, *, +, {},(), []\n",
    "    - 이스케이프 표현 : \\d, \\D, \\s, \\S, \\w, \\W, \\b, \\B.....  \n",
    "    <br>\n",
    "      (기존 문자의 기능을 탈출(Escape)하고 새로운 기능을 부여받은 문자를 의미한다.)\n",
    "   \n",
    "- 함수\n",
    "    - match()\n",
    "    - search()\n",
    "    - findall()\n",
    "    - finditer()\n",
    "    - sub()\n",
    "\n",
    "- 그룹핑\n",
    "- 전방탐색\n",
    "    - 긍정형 전방 탐색\n",
    "    - 부정형 전방 탐색 \n",
    "    \n",
    "- 컴파일 옵션\n"
   ]
  },
  {
   "cell_type": "markdown",
   "metadata": {},
   "source": [
    "- 1. 데이터를 보고, >> 통찰 \n",
    "- 2. 정제 및 추출을 할 수 있는 표현식을 구현한 후 >> 정규식 구현\n",
    "- 3. 함수를 써서 데이터를 획득한다. >> 최종 추출 과정"
   ]
  },
  {
   "cell_type": "markdown",
   "metadata": {},
   "source": [
    "### 메타문자\n",
    "\n",
    "- **|**\n",
    "- 의미 : or "
   ]
  },
  {
   "cell_type": "code",
   "execution_count": 23,
   "metadata": {},
   "outputs": [
    {
     "name": "stdout",
     "output_type": "stream",
     "text": [
      "1.매치된다\n"
     ]
    }
   ],
   "source": [
    "import re\n",
    "# re.match(정규식, 데이터) >> True/False로 나옴\n",
    "# re.match() : 특정 패턴이 데이터에 적용이 되었는지를 검사\n",
    "if re.match('a|b|c','a'):\n",
    "    print('1.매치된다')"
   ]
  },
  {
   "cell_type": "code",
   "execution_count": 24,
   "metadata": {},
   "outputs": [
    {
     "name": "stdout",
     "output_type": "stream",
     "text": [
      "1.매치된다\n",
      "2.매치된다\n",
      "3.매치된다\n"
     ]
    }
   ],
   "source": [
    "if re.match('a|b|c','a'):\n",
    "    print('1.매치된다')\n",
    "if re.match('a|b|c','b'):\n",
    "    print('2.매치된다')\n",
    "if re.match('a|b|c','c'):\n",
    "    print('3.매치된다')"
   ]
  },
  {
   "cell_type": "code",
   "execution_count": 30,
   "metadata": {},
   "outputs": [
    {
     "name": "stdout",
     "output_type": "stream",
     "text": [
      "5.매치된다\n"
     ]
    }
   ],
   "source": [
    "if re.match('a|b|c','d'):\n",
    "    print('4.매치된다')\n",
    "\n",
    "# 한개라도 일치되는게 있으면 참\n",
    "if re.match('a|b|c','ad'):\n",
    "    print('5.매치된다')\n",
    "\n",
    "# a나 b나 c 중에 하나가 가장 먼저 시작한다.(첫글자가 제일 먼저 와야한다.)\n",
    "if re.match('a|b|c','da'):\n",
    "    print('6.매치된다')\n",
    "    "
   ]
  },
  {
   "cell_type": "markdown",
   "metadata": {},
   "source": [
    "- **[]**\n",
    "- 의미 : 문자 클래스\n",
    "- [와 ]사이에는 어느 문자든 들어갈 수 있다.\n",
    "- []는 문자 한개를 의미한다. \n",
    "- match(시작단어), search(전체 중에 일치되는 단어)를 사용할 경우 한 개만 일치되어도 TRUE "
   ]
  },
  {
   "cell_type": "code",
   "execution_count": 33,
   "metadata": {},
   "outputs": [
    {
     "name": "stdout",
     "output_type": "stream",
     "text": [
      "1. 매치된다\n",
      "3. 매치된다\n",
      "4. 매치된다\n",
      "5. 매치된다\n"
     ]
    }
   ],
   "source": [
    "# 문자열은 a, b, c 중에 하나가 시작 문자여야 한다.  \n",
    "if re.match('[abc]','a'): print('1. 매치된다')\n",
    "if re.match('[abc]','efz'): print('2. 매치된다')\n",
    "if re.match('[abc]','abd'): print('3. 매치된다')\n",
    "if re.match('[abc]','b56'): print('4. 매치된다')\n",
    "\n",
    "if re.search('[abc]','56b'): print('5. 매치된다')"
   ]
  },
  {
   "cell_type": "markdown",
   "metadata": {},
   "source": [
    "- **-**\n",
    "- 의미 : [] 문자 클래스 안에 두개의 문자 사이에 표현하면 \n",
    "- from ~ to : 어디서부터 어디까지 범위를 표현 "
   ]
  },
  {
   "cell_type": "code",
   "execution_count": 35,
   "metadata": {},
   "outputs": [
    {
     "name": "stdout",
     "output_type": "stream",
     "text": [
      "1. 매치된다\n",
      "2. 매치된다\n"
     ]
    }
   ],
   "source": [
    "if re.match('[0123456789]','1'): print('1. 매치된다')\n",
    "if re.match('[0-9]','1'): print('2. 매치된다')"
   ]
  },
  {
   "cell_type": "code",
   "execution_count": 38,
   "metadata": {},
   "outputs": [
    {
     "name": "stdout",
     "output_type": "stream",
     "text": [
      "4. 매치된다\n"
     ]
    }
   ],
   "source": [
    "if re.match('[a-zA-Z]','1'): print('3. 매치된다')\n",
    "if re.match('[a-zA-Z]','c1243'): print('4. 매치된다')"
   ]
  },
  {
   "cell_type": "code",
   "execution_count": 42,
   "metadata": {},
   "outputs": [
    {
     "name": "stdout",
     "output_type": "stream",
     "text": [
      "6. 매치된다\n"
     ]
    }
   ],
   "source": [
    "if re.match('[0-9a-z]','Aa'): print('5. 매치된다')\n",
    "\n",
    "# search는 문자열 내에 존재하기만 하면 체크됨\n",
    "if re.search('[0-9a-z]','Aa'): print('6. 매치된다')"
   ]
  },
  {
   "cell_type": "code",
   "execution_count": 43,
   "metadata": {},
   "outputs": [
    {
     "name": "stdout",
     "output_type": "stream",
     "text": [
      "7. 매치된다\n"
     ]
    }
   ],
   "source": [
    "# 한글 완성형 코드(utf-8)\n",
    "if re.match('[ㄱ-힣]','가나다bc'): print('7. 매치된다')\n"
   ]
  },
  {
   "cell_type": "markdown",
   "metadata": {},
   "source": [
    "- **.**\n",
    "- 의미 : dot(.), 줄바꿈 기호 \\n를 제외하고 모든 문자에 매치 >> 문자 클래스가 아닌 곳에서 해당, 문자 클래스 내부에서는   .은 .이다"
   ]
  },
  {
   "cell_type": "code",
   "execution_count": 54,
   "metadata": {},
   "outputs": [
    {
     "name": "stdout",
     "output_type": "stream",
     "text": [
      "8. 매치된다\n",
      "9. 매치된다\n",
      "11. 매치된다\n",
      "12. 매치된다\n",
      "13. 매치된다\n",
      "15. 매치된다\n"
     ]
    }
   ],
   "source": [
    "# \n",
    "if re.match('[a.b]','a'): print('8. 매치된다')\n",
    "if re.match('[a.b]','b'): print('9. 매치된다')\n",
    "if re.match('[a.b]','c'): print('10. 매치된다')\n",
    "if re.match('[a.b]','abc'): print('11. 매치된다')\n",
    "if re.match('[a.b]','a1b'): print('12. 매치된다')\n",
    "if re.match('[a.b]','a1be'): print('13. 매치된다')\n",
    "if re.match('[a.b]','cab'): print('14. 매치된다')\n",
    "if re.match('[a.b]','.ab'): print('15. 매치된다')    "
   ]
  },
  {
   "cell_type": "code",
   "execution_count": 53,
   "metadata": {},
   "outputs": [
    {
     "name": "stdout",
     "output_type": "stream",
     "text": [
      "12. 매치된다\n",
      "13. 매치된다\n"
     ]
    }
   ],
   "source": [
    "# a문자b 라는 형태로 출발해야 통과됨\n",
    "if re.match('a.b','abc'): print('11. 매치된다')\n",
    "if re.match('a.b','a1b'): print('12. 매치된다')\n",
    "if re.match('a.b','a1be'): print('13. 매치된다')\n",
    "if re.match('a.b','a'): print('14. 매치된다')\n",
    "if re.match('a.b','b'): print('15. 매치된다')\n",
    "if re.match('a.b','c'): print('16. 매치된다')"
   ]
  },
  {
   "cell_type": "markdown",
   "metadata": {},
   "source": [
    "- **^** \n",
    "    - 의미: 일반 문자열 >> 문자열의 맨 처음과 일치함을 의미  \n",
    "    <br>\n",
    "        문자 클래스 내 >> 배제, 해당 문자 배제\n",
    "        re.MULTILINE >> 각 라인의 처음과 일치함을 조사   \n",
    "\n",
    "- **$**\n",
    "    - 의미: 문자열의 맨 끝과 일치 \n",
    "\n",
    "- *\n",
    "    - 의미: *를 붙인 바로 앞 문자 0~무한대 \n",
    "\n",
    "- **+**\n",
    "    - 의미: +를 붙인 바로 앞 문자 1~무한대 \n",
    "    -      문자열 클래스 내부에서 기술하면, 단순 +가 될 수도 있고, 반복의 의미가 될 수도 있다. (주변값을 고려해서 해석)"
   ]
  },
  {
   "cell_type": "code",
   "execution_count": 57,
   "metadata": {},
   "outputs": [
    {
     "name": "stdout",
     "output_type": "stream",
     "text": [
      "1. 매치된다\n"
     ]
    }
   ],
   "source": [
    "# 숫자나 .으로 시작하고 끝난다.\n",
    "if re.match('^[0-9\\.]$','1'): print('1. 매치된다')"
   ]
  },
  {
   "cell_type": "code",
   "execution_count": 56,
   "metadata": {},
   "outputs": [
    {
     "name": "stdout",
     "output_type": "stream",
     "text": [
      "1. 매치된다\n"
     ]
    }
   ],
   "source": [
    "if re.match('^[0-9\\.]$','.'): print('1. 매치된다')"
   ]
  },
  {
   "cell_type": "code",
   "execution_count": 62,
   "metadata": {},
   "outputs": [],
   "source": [
    "# 문자열은 1개 >> 그러므로 밑의 if문은 실행되지 않음\n",
    "# 문자의 수량에서 False가 된 것임\n",
    "# >> 해결법 : * or +\n",
    "if re.match('^[0-9\\.]$','11'): print('1. 매치된다')\n",
    "if re.match('^[0-9\\.]$','1.'): print('2. 매치된다')\n",
    "if re.match('^[0-9\\.]$','.1'): print('3. 매치된다')\n",
    "if re.match('^[0-9\\.]$','..'): print('4. 매치된다')"
   ]
  },
  {
   "cell_type": "code",
   "execution_count": 63,
   "metadata": {},
   "outputs": [
    {
     "name": "stdout",
     "output_type": "stream",
     "text": [
      "1. 매치된다\n",
      "2. 매치된다\n",
      "3. 매치된다\n",
      "4. 매치된다\n"
     ]
    }
   ],
   "source": [
    "if re.match('^[0-9\\.]+$','11'): print('1. 매치된다')\n",
    "if re.match('^[0-9\\.]+$','1.'): print('2. 매치된다')\n",
    "if re.match('^[0-9\\.]*$','.1'): print('3. 매치된다')\n",
    "if re.match('^[0-9\\.]*$','..'): print('4. 매치된다')"
   ]
  },
  {
   "cell_type": "code",
   "execution_count": 66,
   "metadata": {},
   "outputs": [],
   "source": [
    "# 아래의 if문은 조건에 부합하지 않기 때문에 매치되지 않음\n",
    "# 정규식의 패턴이 늘어감에 따라 match는 종합적인 조건을 따지게 된다.\n",
    "# 시작 문자 and 끝 문자 and 문자 수 and 문자 성분 >> 이게 다 참이어야 됨 \n",
    "if re.match('^[0-9\\.]*$','.asdf.'): print('1. 매치된다')"
   ]
  },
  {
   "cell_type": "code",
   "execution_count": 70,
   "metadata": {},
   "outputs": [
    {
     "name": "stdout",
     "output_type": "stream",
     "text": [
      "2. 매치된다\n",
      "3. 매치된다\n",
      "4. 매치된다\n"
     ]
    }
   ],
   "source": [
    "# [^0-9] >> 의미 : 숫자를 제외하고 모든 문자가 시작문자가 될 수 있다.   \n",
    "if re.match('[^0-9]','1'): print('1. 매치된다')\n",
    "if re.match('[^0-9]','가'): print('2. 매치된다')\n",
    "if re.match('[^0-9]','a'): print('3. 매치된다')\n",
    "if re.match('[^0-9]','ab'): print('4. 매치된다')"
   ]
  },
  {
   "cell_type": "code",
   "execution_count": 107,
   "metadata": {},
   "outputs": [
    {
     "data": {
      "text/plain": [
       "'류현진의 에이전트에 따르면 류현진의 메디컬 체크와 입단식에 참석하기 위해 \\n    \\n    크리스마스인 25일 캐나다 토론토로 떠난다. \\n    \\n    다만 출국일에는 공식 기자회견 없이 조용히 떠난 뒤 모든 행사를 마치고 \\n    \\n    귀국길에 공식 인터뷰에 임할 예정이라는 전언.\\n    \\n    '"
      ]
     },
     "execution_count": 107,
     "metadata": {},
     "output_type": "execute_result"
    }
   ],
   "source": [
    "data = '''류현진의 에이전트에 따르면 류현진의 메디컬 체크와 입단식에 참석하기 위해 \n",
    "    \n",
    "    크리스마스인 25일 캐나다 토론토로 떠난다. \n",
    "    \n",
    "    다만 출국일에는 공식 기자회견 없이 조용히 떠난 뒤 모든 행사를 마치고 \n",
    "    \n",
    "    귀국길에 공식 인터뷰에 임할 예정이라는 전언.\n",
    "    \n",
    "    '''\n",
    "data\n",
    "# 특정 단어가 시작문자로 여러줄에 걸쳐서 등장한다."
   ]
  },
  {
   "cell_type": "code",
   "execution_count": 111,
   "metadata": {},
   "outputs": [],
   "source": [
    "# 정규식을 컴파일하고 \n",
    "#이를 이용하여 데이터를 처리한다.\n",
    "# \\s : whitespace(공백, 탭,.....)\n",
    "# \\w : 단어 한덩어리 \n",
    "# 류현진의 으로 시작하고 한칸 띄우고 단어 한단어까지로 시작하는 문자열 \n",
    "# 문자열 전체의 단락별 시작 문자열이 패턴과 일치하면 다 수집\n",
    "p = re.compile('^류현진의\\s\\w') \n",
    "# 여기서 p = re.compile('^류현진의\\s\\w+')라고 수정하면 류현진의 에이전트에 까지 나옴"
   ]
  },
  {
   "cell_type": "code",
   "execution_count": 112,
   "metadata": {},
   "outputs": [
    {
     "data": {
      "text/plain": [
       "['류현진의 에']"
      ]
     },
     "execution_count": 112,
     "metadata": {},
     "output_type": "execute_result"
    }
   ],
   "source": [
    "p.findall(data)"
   ]
  },
  {
   "cell_type": "code",
   "execution_count": 113,
   "metadata": {},
   "outputs": [
    {
     "data": {
      "text/plain": [
       "['류현진의 에이전트에', '류현진의 메디컬']"
      ]
     },
     "execution_count": 113,
     "metadata": {},
     "output_type": "execute_result"
    }
   ],
   "source": [
    "# 멀티 라인 지원\n",
    "# 문자열 전체에 동일 패턴이 보니면 다 수집 \n",
    "p = re.compile('류현진의\\s\\w+', re.MULTILINE)\n",
    "p.findall(data)"
   ]
  },
  {
   "cell_type": "code",
   "execution_count": 144,
   "metadata": {},
   "outputs": [
    {
     "name": "stdout",
     "output_type": "stream",
     "text": [
      "1. 매치된다\n"
     ]
    }
   ],
   "source": [
    "# 핸드폰 전화번호 정규식 \n",
    "# 010-숫자4개-숫자4개\n",
    "\n",
    "if re.match('^010-[0-9]{4}-[0-9]{4}$','010-1234-5678') : print('1. 매치된다')\n",
    "\n",
    "    "
   ]
  },
  {
   "cell_type": "markdown",
   "metadata": {},
   "source": [
    "### 메타문자 >> 이스케이프\n",
    "\n",
    "- \\d <-> \\D\n",
    "- \\s  <-> \\S\n",
    "- \\w  <-> \\W\n",
    "- \\b <-> \\B\n",
    "- 기타 \n",
    "    - 문자 클래스[]에서 특수문자, 화이트스페이스 등을 표현할 때 \n",
    "    - . >> \\ . 이런식으로 표현할 수 있다."
   ]
  },
  {
   "cell_type": "code",
   "execution_count": 145,
   "metadata": {},
   "outputs": [
    {
     "name": "stdout",
     "output_type": "stream",
     "text": [
      "1.매치된다\n"
     ]
    }
   ],
   "source": [
    "# \\d : 숫자 >> [0-9]\n",
    "# \\d 랑 [0-9]랑 같은 말\n",
    "\n",
    "if re.match('[\\d]', '1'): print('1.매치된다')\n",
    "if re.match('[\\d]','a'): print('2.매치된다.')"
   ]
  },
  {
   "cell_type": "code",
   "execution_count": 146,
   "metadata": {},
   "outputs": [
    {
     "name": "stdout",
     "output_type": "stream",
     "text": [
      "2.매치된다\n"
     ]
    }
   ],
   "source": [
    "# \\D : 숫자말고 나머지 >> [^0-9]\n",
    "if re.match('[\\D]', '1'): print('1.매치된다')\n",
    "if re.match('[\\D]','a'): print('2.매치된다')"
   ]
  },
  {
   "cell_type": "code",
   "execution_count": 150,
   "metadata": {},
   "outputs": [
    {
     "name": "stdout",
     "output_type": "stream",
     "text": [
      "1.매치된다\n"
     ]
    }
   ],
   "source": [
    "# \\s >> whitespace (whitespace의 예 : \\t, \\n, \\r, \\f, \\v)\n",
    "# 수평 탭, 개행, 캐리지 리턴, 폼 피드, 수직탭 \n",
    "# >> 눈에 보이지 않고, 공백처럼 보이면서 문자열 상에 정보를 제공하는 문자\n",
    "if re.match('[\\s]', ' \\t\\n\\r\\f\\v'): print('1.매치된다')\n",
    "if re.match('[\\s]', 'a \\t\\n\\r\\f\\v'): print('2.매치된다')"
   ]
  },
  {
   "cell_type": "code",
   "execution_count": 149,
   "metadata": {},
   "outputs": [
    {
     "name": "stdout",
     "output_type": "stream",
     "text": [
      "2.매치된다\n"
     ]
    }
   ],
   "source": [
    "# \\S >> whitespace가 아닌 문자 \n",
    "if re.match('[\\S]', ' \\t\\n\\r\\f\\v'): print('1.매치된다')\n",
    "if re.match('[\\S]', 'a \\t\\n\\r\\f\\v'): print('2.매치된다')"
   ]
  },
  {
   "cell_type": "code",
   "execution_count": 154,
   "metadata": {},
   "outputs": [
    {
     "name": "stdout",
     "output_type": "stream",
     "text": [
      "1.매치된다\n",
      "3.매치된다\n",
      "4.매치된다\n"
     ]
    }
   ],
   "source": [
    "# \\w >> 문자, 숫자와 매치 : [a-zA-Z0-9ㄱ-힣], 언어면 다 OK\n",
    "if re.match('[\\w]', 'a0'): print('1.매치된다')\n",
    "if re.match('[\\w]', '!#'): print('2.매치된다') # 매치 안됨 (b/c 특수문자)\n",
    "if re.match('[\\w]', 'a'): print('3.매치된다')\n",
    "if re.match('[\\w]', '1'): print('4.매치된다')\n",
    "if re.match('[\\w]', '\\t'): print('5.매치된다') # 매치 안됨(b/c 이스케이프 문자)\n",
    "                        "
   ]
  },
  {
   "cell_type": "code",
   "execution_count": null,
   "metadata": {},
   "outputs": [],
   "source": [
    "# \\W >> 문자, 숫자가 아닌 문자와 매치 (예, 특수문자, 이스케이프 문자)\n",
    "# [^a-zA-Z0-9ㄱ-힣]"
   ]
  },
  {
   "cell_type": "code",
   "execution_count": 155,
   "metadata": {},
   "outputs": [
    {
     "name": "stdout",
     "output_type": "stream",
     "text": [
      "ABC가나다\t]\n",
      "라\n"
     ]
    }
   ],
   "source": [
    "# 일반 문자열은 인용 부호(예, 줄 바꿈....등등)는 해석돼서 처리된다.\n",
    "a = 'ABC가나다\\t]\\n라'# \\t : 수평탭, \\n : 줄 바꿈\n",
    "print(a)"
   ]
  },
  {
   "cell_type": "code",
   "execution_count": 157,
   "metadata": {},
   "outputs": [
    {
     "name": "stdout",
     "output_type": "stream",
     "text": [
      "ABC가나다\\t]\\n라\n",
      "<class 'str'>\n"
     ]
    }
   ],
   "source": [
    "# 만약 데이터 그대로 받고 싶다면 \n",
    "# Raw String (문자열 앞에 소문자 r 붙여주기)\n",
    "# 이스케이프 문자가 적용되지 않는다.\n",
    "a =r'ABC가나다\\t]\\n라'\n",
    "print(a)\n",
    "print(type(a))"
   ]
  },
  {
   "cell_type": "code",
   "execution_count": 162,
   "metadata": {},
   "outputs": [],
   "source": [
    "# \\b 는 단어구분자(word boundary) \n",
    "# 일반 단어는 whitespace로 구분 된다.\n",
    "# \\b는 일반 단어에서 백키로 인식한다. 이 자체를 그대로 인식 시키기 위해선 \n",
    "# raw string으로 표현해야 한다.\n",
    "\n",
    "p = re.compile(r'\\bclass\\b')"
   ]
  },
  {
   "cell_type": "code",
   "execution_count": 164,
   "metadata": {},
   "outputs": [
    {
     "name": "stdout",
     "output_type": "stream",
     "text": [
      "<re.Match object; span=(3, 8), match='class'> class\n"
     ]
    }
   ],
   "source": [
    "m = p.search('no class at 1234')\n",
    "print(m, m.group())"
   ]
  },
  {
   "cell_type": "code",
   "execution_count": 165,
   "metadata": {},
   "outputs": [
    {
     "name": "stdout",
     "output_type": "stream",
     "text": [
      "None\n"
     ]
    }
   ],
   "source": [
    "m = p.search('the classifier at one')\n",
    "print(m)"
   ]
  },
  {
   "cell_type": "code",
   "execution_count": 141,
   "metadata": {},
   "outputs": [],
   "source": [
    "# 이메일 \n",
    "# 아이디(대소문자, 숫자, _ ) @ . "
   ]
  },
  {
   "cell_type": "code",
   "execution_count": null,
   "metadata": {},
   "outputs": [],
   "source": []
  },
  {
   "cell_type": "code",
   "execution_count": null,
   "metadata": {},
   "outputs": [],
   "source": []
  },
  {
   "cell_type": "code",
   "execution_count": null,
   "metadata": {},
   "outputs": [],
   "source": []
  },
  {
   "cell_type": "code",
   "execution_count": 117,
   "metadata": {},
   "outputs": [
    {
     "name": "stdout",
     "output_type": "stream",
     "text": [
      "4.매치된다\n"
     ]
    }
   ],
   "source": [
    "# $ : 문자열의 끝 패턴\n",
    "if re.match('^[0-9]+[a-z]+$', '1'): print('1.매치된다')\n",
    "if re.match('^[0-9]+[a-z]+$', '11'): print('2.매치된다')\n",
    "if re.match('^[0-9]+[a-z]+$', '1111111A'): print('3.매치된다')\n",
    "if re.match('^[0-9]+[a-z]+$', '1111111a'): print('4.매치된다')"
   ]
  },
  {
   "cell_type": "code",
   "execution_count": 119,
   "metadata": {},
   "outputs": [
    {
     "name": "stdout",
     "output_type": "stream",
     "text": [
      "1.매치된다\n",
      "2.매치된다\n",
      "3.매치된다\n"
     ]
    }
   ],
   "source": [
    "# 반복\n",
    "# * : 0~무한대 \n",
    "if re.match('bus*an','buan'): print('1.매치된다')\n",
    "if re.match('bus*an','busan'): print('2.매치된다')\n",
    "if re.match('bus*an','bussan'): print('3.매치된다')"
   ]
  },
  {
   "cell_type": "code",
   "execution_count": 122,
   "metadata": {},
   "outputs": [
    {
     "name": "stdout",
     "output_type": "stream",
     "text": [
      "2.매치된다\n",
      "3.매치된다\n"
     ]
    }
   ],
   "source": [
    "# + : 1~무한대  >> +는 바로 앞에 있는 문자 하나를 가리킴(?.......)\n",
    "if re.match('bus+an','buan'): print('1.매치된다')\n",
    "if re.match('bus+an','busan'): print('2.매치된다')\n",
    "if re.match('bus+an','bussan'): print('3.매치된다')"
   ]
  },
  {
   "cell_type": "markdown",
   "metadata": {},
   "source": [
    "- {} \n",
    "    - 반복 횟수 지정\n",
    "    - {2} >> 2번 반복\n",
    "    - {2,3} >> 2부터 3까지 반복 \n",
    "\n",
    "- ?\n",
    "    - {0,1}\n",
    "    - 0번 OK, 1번 OK \n",
    "    - 안나오던지, 나오면 1번만 나오던지 "
   ]
  },
  {
   "cell_type": "code",
   "execution_count": 125,
   "metadata": {},
   "outputs": [
    {
     "name": "stdout",
     "output_type": "stream",
     "text": [
      "3. 매치된다\n"
     ]
    }
   ],
   "source": [
    "if re.match('bus{2}an', 'buan'): print('1. 매치된다')\n",
    "if re.match('bus{2}an', 'busan'): print('2. 매치된다')\n",
    "if re.match('bus{2}an', 'bussan'): print('3. 매치된다')\n",
    "    "
   ]
  },
  {
   "cell_type": "code",
   "execution_count": 127,
   "metadata": {},
   "outputs": [
    {
     "name": "stdout",
     "output_type": "stream",
     "text": [
      "1.매치된다\n"
     ]
    }
   ],
   "source": [
    "# 문자 클래스 안에서는 {}의 본질적인 의미가 없어진다. 그냥 문자로 본다. \n",
    "if re.match('[bus{2}an]', 'buan'): print('1.매치된다')"
   ]
  },
  {
   "cell_type": "code",
   "execution_count": 128,
   "metadata": {},
   "outputs": [
    {
     "name": "stdout",
     "output_type": "stream",
     "text": [
      "3. 매치된다\n",
      "4. 매치된다\n"
     ]
    }
   ],
   "source": [
    "# m~n까지 \n",
    "if re.match('bus{2,3}an', 'buan'): print('1. 매치된다')\n",
    "if re.match('bus{2,3}an', 'busan'): print('2. 매치된다')\n",
    "if re.match('bus{2,3}an', 'bussan'): print('3. 매치된다')    \n",
    "if re.match('bus{2,3}an', 'busssan'): print('4. 매치된다')\n",
    "if re.match('bus{2,3}an', 'bussssan'): print('5. 매치된다')"
   ]
  },
  {
   "cell_type": "code",
   "execution_count": 130,
   "metadata": {},
   "outputs": [
    {
     "name": "stdout",
     "output_type": "stream",
     "text": [
      "3. 매치된다\n",
      "4. 매치된다\n",
      "5. 매치된다\n"
     ]
    }
   ],
   "source": [
    "# 2이상 4이하 범위 내에서 전부 가능 \n",
    "# 여기선 s가 2번~4번 반복 가능 \n",
    "\n",
    "if re.match('bus{2,4}an', 'buan'): print('1. 매치된다')\n",
    "if re.match('bus{2,4}an', 'busan'): print('2. 매치된다')\n",
    "if re.match('bus{2,4}an', 'bussan'): print('3. 매치된다')    \n",
    "if re.match('bus{2,4}an', 'busssan'): print('4. 매치된다')\n",
    "if re.match('bus{2,4}an', 'bussssan'): print('5. 매치된다')"
   ]
  },
  {
   "cell_type": "code",
   "execution_count": null,
   "metadata": {},
   "outputs": [],
   "source": [
    "# ?는 안써도 OK, 쓴다면 1번만 가능\n",
    "# 여기선 s가 0~1번 쓸 수 있음 \n",
    "if re.match('bus?an', 'buan'): print('1. 매치된다')\n",
    "if re.match('bus?an', 'busan'): print('2. 매치된다')\n",
    "if re.match('bus?an', 'bussan'): print('3. 매치된다')    \n"
   ]
  },
  {
   "cell_type": "code",
   "execution_count": null,
   "metadata": {},
   "outputs": [],
   "source": []
  },
  {
   "cell_type": "code",
   "execution_count": null,
   "metadata": {},
   "outputs": [],
   "source": []
  },
  {
   "cell_type": "code",
   "execution_count": null,
   "metadata": {},
   "outputs": [],
   "source": []
  },
  {
   "cell_type": "code",
   "execution_count": null,
   "metadata": {},
   "outputs": [],
   "source": []
  },
  {
   "cell_type": "code",
   "execution_count": null,
   "metadata": {},
   "outputs": [],
   "source": []
  },
  {
   "cell_type": "code",
   "execution_count": null,
   "metadata": {},
   "outputs": [],
   "source": []
  },
  {
   "cell_type": "code",
   "execution_count": 196,
   "metadata": {},
   "outputs": [
    {
     "data": {
      "text/plain": [
       "'\\nThe group initially'"
      ]
     },
     "execution_count": 196,
     "metadata": {},
     "output_type": "execute_result"
    }
   ],
   "source": [
    "test_text = \"\"\"\n",
    "The group initially formed as teenagers under Big Hit Entertainment \n",
    "and released their debut single album, 2 Cool 4 Skool (2013). \n",
    "Subsequent work such as their first U.S. \n",
    "Billboard 200 entries The Most Beautiful Moment in Life, Part 2 (2015), T\n",
    "he Most Beautiful Moment in Life: Young Forever (2016), \n",
    "and Wings (2016) helped establish BTS' \n",
    "reputation as a socially conscious group. Wings became BTS' \n",
    "first album to sell one million copies in South Korea. By 2017, \n",
    "BTS crossed into the international music market, \n",
    "leading the Korean Wave into the United States \n",
    "and breaking numerous sales records, \n",
    "becoming the first Korean group to receive a certification \n",
    "from the Recording Industry Association of America (RIAA)\n",
    "for their single \"Mic Drop\". \n",
    "The band is the first Korean act to top the Billboard 200 with their studio album Love Yourself: \n",
    "Tear (2018) and have since hit the top of the U.S. charts with their albums Love Yourself: \n",
    "Answer (2018) and Map of the Soul: Persona (2019), \n",
    "making BTS the first group since the Beatles to earn three number one albums in less than a year.\n",
    "Love Yourself: Answer also broke South Korea's Gaon Album Chart's \n",
    "\"\"\"\n",
    "\n",
    "test_text[:20]"
   ]
  },
  {
   "cell_type": "code",
   "execution_count": 7,
   "metadata": {},
   "outputs": [],
   "source": [
    "# 원문에서 한글 제거\n",
    "# 한글 초성 + 중성 + 종성 >> euc-kr, 16-bit >> 조합형 코드\n",
    "# 한글 가, 갸, 거, 겨,... >> utf-8, 8-bit >> 완성형 코드\n",
    "# 완성형 기준 >> ㄱ 부터 시작 >> ㅣ 에서 끝남 >> 가 부터 시작 >> 힣 에서 끝남\n",
    "# hangul = re.compile('[ㄱ-ㅣ가-힣]+') >> 한글을 정규표현식으로 씀 "
   ]
  },
  {
   "cell_type": "code",
   "execution_count": 8,
   "metadata": {},
   "outputs": [],
   "source": [
    "# hangul.sub('',test_text)[:100] >> 한글이 사라짐"
   ]
  },
  {
   "cell_type": "code",
   "execution_count": 9,
   "metadata": {},
   "outputs": [],
   "source": [
    "# alpha = re.compile('[a-zA-Z]+')\n",
    "# alpha.sub('',test_text)[:100] >> test_text에서 알파벳으로 표현된 부분이 사라짐"
   ]
  },
  {
   "cell_type": "code",
   "execution_count": null,
   "metadata": {},
   "outputs": [],
   "source": []
  },
  {
   "cell_type": "markdown",
   "metadata": {},
   "source": [
    "### 함수\n",
    "\n",
    "- match()\n",
    "    - 문자열의 처음부터 정규식과 매칭되는지 조사\n",
    "- search()\n",
    "    - 문자열 전체를 검색하여 매칭되는지 조사\n",
    "- findall()\n",
    "    - 정규식 매칭되는 모든 문자열을 리스트로 리턴\n",
    "- finditer()\n",
    "    - 정규식에 매칭되는 모든 문자열을 iterator(열거자)로 리턴\n",
    "- sub()\n",
    "    - 규칙과 매칭되는 부분을 다른 문자로 변경\n",
    "    "
   ]
  },
  {
   "cell_type": "code",
   "execution_count": 168,
   "metadata": {},
   "outputs": [],
   "source": [
    "# 숫자가 나오고, 1~무한대로 반복될 수 있다. \n",
    "p = re.compile('[0-9]+')"
   ]
  },
  {
   "cell_type": "code",
   "execution_count": 170,
   "metadata": {},
   "outputs": [
    {
     "name": "stdout",
     "output_type": "stream",
     "text": [
      "None\n"
     ]
    }
   ],
   "source": [
    "r = p.match('abcd5')\n",
    "# 매칭되는 것이 없다 >> None\n",
    "print(r)"
   ]
  },
  {
   "cell_type": "code",
   "execution_count": 173,
   "metadata": {},
   "outputs": [
    {
     "name": "stdout",
     "output_type": "stream",
     "text": [
      "<re.Match object; span=(0, 1), match='5'>\n",
      "5 일치되는 데이터가 나온다\n"
     ]
    }
   ],
   "source": [
    "r = p.match('5')\n",
    "print(r)\n",
    "if r: \n",
    "    print(r.group(), '일치되는 데이터가 나온다')\n",
    "    "
   ]
  },
  {
   "cell_type": "code",
   "execution_count": 175,
   "metadata": {},
   "outputs": [
    {
     "name": "stdout",
     "output_type": "stream",
     "text": [
      "<re.Match object; span=(0, 3), match='123'>\n",
      "123 일치되는 데이터가 나온다\n"
     ]
    }
   ],
   "source": [
    "r = p.match('123abcd')\n",
    "print(r)\n",
    "if r: \n",
    "    print(r.group(), '일치되는 데이터가 나온다')\n",
    "else:\n",
    "    print('일치되는 데이터가 없다')"
   ]
  },
  {
   "cell_type": "code",
   "execution_count": 185,
   "metadata": {},
   "outputs": [
    {
     "name": "stdout",
     "output_type": "stream",
     "text": [
      "['i', 'am', 'a', 'uman']\n"
     ]
    }
   ],
   "source": [
    "data = 'i am a Human. 2020 가나다라마바사 !@#$'\n",
    "# 소문자만 찾아서, 소문자 글자 리스트를 리턴해라\n",
    "\n",
    "p = re.compile('[a-z]+') # '[a-z]'만 하면 소문자 1개 \n",
    "print(p.findall(data))\n",
    "\n",
    "# match() 사용하면 1개만 나옴 \n",
    "# >> sol) findall(인자 : 데이터) 써줘야 함 \n"
   ]
  },
  {
   "cell_type": "code",
   "execution_count": 188,
   "metadata": {},
   "outputs": [
    {
     "name": "stdout",
     "output_type": "stream",
     "text": [
      "<re.Match object; span=(0, 1), match='i'> i 0 1 (0, 1)\n",
      "<re.Match object; span=(2, 4), match='am'> am 2 4 (2, 4)\n",
      "<re.Match object; span=(5, 6), match='a'> a 5 6 (5, 6)\n",
      "<re.Match object; span=(8, 12), match='uman'> uman 8 12 (8, 12)\n"
     ]
    }
   ],
   "source": [
    "r = p.finditer(data)\n",
    "for n in r:\n",
    "    # 실제값, 시작인덱스, 끝인덱스, 인덱스 튜플값\n",
    "    print(n, n.group(), n.start(), n.end(), n.span()) "
   ]
  },
  {
   "cell_type": "code",
   "execution_count": 189,
   "metadata": {},
   "outputs": [],
   "source": [
    "# 매치되는 부분을 다른 문자로 변경한다.\n",
    "p = re.compile('(blue|red|white)')"
   ]
  },
  {
   "cell_type": "code",
   "execution_count": 190,
   "metadata": {},
   "outputs": [
    {
     "data": {
      "text/plain": [
       "'색상 케이크 그리고 색상 와인을 가지고 집에 가세요'"
      ]
     },
     "execution_count": 190,
     "metadata": {},
     "output_type": "execute_result"
    }
   ],
   "source": [
    "# 문자열 대체 \n",
    "p.sub('색상', 'white 케이크 그리고 red 와인을 가지고 집에 가세요')"
   ]
  },
  {
   "cell_type": "code",
   "execution_count": 194,
   "metadata": {},
   "outputs": [
    {
     "data": {
      "text/plain": [
       "' 케이크 그리고  와인을 가지고 집에 가세요'"
      ]
     },
     "execution_count": 194,
     "metadata": {},
     "output_type": "execute_result"
    }
   ],
   "source": [
    "# 첫번째 인자 ''로 입력하면 해당 문자열 없애줌 (제거)\n",
    "p.sub('', 'white 케이크 그리고 red 와인을 가지고 집에 가세요')"
   ]
  },
  {
   "cell_type": "code",
   "execution_count": 203,
   "metadata": {},
   "outputs": [
    {
     "data": {
      "text/plain": [
       "'ThegroupinitiallyformedasteenagersunderBigHitEntertainmentandreleasedtheirdebutsinglealbumCoolSkoolSubsequentworksuchastheirfirstUSBillboardentriesTheMostBeautifulMomentinLifePartTheMostBeautifulMomentinLifeYoungForeverandWingshelpedestablishBTSreputationasasociallyconsciousgroupWingsbecameBTSfirstalbumtosellonemillioncopiesinSouthKoreaByBTScrossedintotheinternationalmusicmarketleadingtheKoreanWaveintotheUnitedStatesandbreakingnumeroussalesrecordsbecomingthefirstKoreangrouptoreceiveacertificationfromtheRecordingIndustryAssociationofAmericaRIAAfortheirsingleMicDropThebandisthefirstKoreanacttotoptheBillboardwiththeirstudioalbumLoveYourselfTearandhavesincehitthetopoftheUSchartswiththeiralbumsLoveYourselfAnswerandMapoftheSoulPersonamakingBTSthefirstgroupsincetheBeatlestoearnthreenumberonealbumsinlessthanayearLoveYourselfAnsweralsobrokeSouthKoreasGaonAlbumCharts'"
      ]
     },
     "execution_count": 203,
     "metadata": {},
     "output_type": "execute_result"
    }
   ],
   "source": [
    "# 한글 \n",
    "han = re.compile('[ㄱ-힣\\s:()0-9]+')# 없애고 싶은거 []안에 넣으면 사라짐. \n",
    "# 없애고 싶은거 사이사이에 \\ 넣어도 동일하게 실행됨 ([]안에 넣은 거 사라짐)\n",
    "han = re.compile('[ㄱ-힣\\s\\:\\()\\0-9]+')\n",
    "# ascii 코드를 이용하여 특수 문자의 값의 범위를 활용하여 제거 가능\n",
    "# 비 영어권은 유니코드 혹은 완성형코드의 수치값 범위를 활용하여 제거한다.\n",
    "han.sub('',test_text)"
   ]
  },
  {
   "cell_type": "code",
   "execution_count": 205,
   "metadata": {},
   "outputs": [
    {
     "data": {
      "text/plain": [
       "'ThegroupinitiallyformedasteenagersunderBigHitEntertainmentandreleasedtheirdebutsinglealbumCoolSkoolS'"
      ]
     },
     "execution_count": 205,
     "metadata": {},
     "output_type": "execute_result"
    }
   ],
   "source": [
    "# 문자열이 너무 길어서 100글자만 추출\n",
    "han.sub('',test_text)[:100] "
   ]
  },
  {
   "cell_type": "markdown",
   "metadata": {},
   "source": [
    "### 그룹핑\n",
    "- 그룹을 만들어주는 메타 문자 () "
   ]
  },
  {
   "cell_type": "code",
   "execution_count": 206,
   "metadata": {},
   "outputs": [],
   "source": [
    "p = re.compile('(123)+')  "
   ]
  },
  {
   "cell_type": "code",
   "execution_count": 208,
   "metadata": {},
   "outputs": [
    {
     "data": {
      "text/plain": [
       "<re.Match object; span=(0, 12), match='123123123123'>"
      ]
     },
     "execution_count": 208,
     "metadata": {},
     "output_type": "execute_result"
    }
   ],
   "source": [
    "m = p.search('123123123123 123123 check?')\n",
    "m"
   ]
  },
  {
   "cell_type": "code",
   "execution_count": 209,
   "metadata": {},
   "outputs": [
    {
     "data": {
      "text/plain": [
       "'123123123123'"
      ]
     },
     "execution_count": 209,
     "metadata": {},
     "output_type": "execute_result"
    }
   ],
   "source": [
    "m.group()"
   ]
  },
  {
   "cell_type": "code",
   "execution_count": 210,
   "metadata": {},
   "outputs": [
    {
     "data": {
      "text/plain": [
       "('123123123123', '123123123123', '123')"
      ]
     },
     "execution_count": 210,
     "metadata": {},
     "output_type": "execute_result"
    }
   ],
   "source": [
    "m.group(), m.group(0), m.group(1)"
   ]
  },
  {
   "cell_type": "markdown",
   "metadata": {},
   "source": [
    "- m.group(0)\n",
    "    - 매칭된 모든 문자열 \n",
    "- m.group(1)\n",
    "    - 첫번째 그룹의 문자열\n",
    "- m.group(2)\n",
    "    - 두번째 그룹의 문자열   \n",
    "- m.group(n)\n",
    "    - n번째 그룹의 문자열 \n"
   ]
  },
  {
   "cell_type": "code",
   "execution_count": 215,
   "metadata": {},
   "outputs": [],
   "source": [
    "# 이 표현대로 문자열을 표현한다면?\n",
    "# r'\\w+\\s+\\d+[-]\\d+[-]\\d+'\n",
    "\n",
    "p = re.compile(r'\\w+\\s+\\d+[-]\\d+[-]\\d+')\n"
   ]
  },
  {
   "cell_type": "code",
   "execution_count": 218,
   "metadata": {},
   "outputs": [],
   "source": [
    "m = p.search('부산대역 010-1234-5678 abcd')"
   ]
  },
  {
   "cell_type": "code",
   "execution_count": 219,
   "metadata": {},
   "outputs": [
    {
     "data": {
      "text/plain": [
       "'부산대역 010-1234-5678'"
      ]
     },
     "execution_count": 219,
     "metadata": {},
     "output_type": "execute_result"
    }
   ],
   "source": [
    "m.group()"
   ]
  },
  {
   "cell_type": "code",
   "execution_count": 222,
   "metadata": {},
   "outputs": [
    {
     "data": {
      "text/plain": [
       "()"
      ]
     },
     "execution_count": 222,
     "metadata": {},
     "output_type": "execute_result"
    }
   ],
   "source": [
    "m.groups()\n",
    "# 그룹이 없다 >> 정규식에 그룹화 표현이 없다."
   ]
  },
  {
   "cell_type": "code",
   "execution_count": 223,
   "metadata": {},
   "outputs": [
    {
     "data": {
      "text/plain": [
       "'부산대역 010-1234-5678'"
      ]
     },
     "execution_count": 223,
     "metadata": {},
     "output_type": "execute_result"
    }
   ],
   "source": [
    "m.group(0)"
   ]
  },
  {
   "cell_type": "code",
   "execution_count": 227,
   "metadata": {},
   "outputs": [
    {
     "data": {
      "text/plain": [
       "'1234'"
      ]
     },
     "execution_count": 227,
     "metadata": {},
     "output_type": "execute_result"
    }
   ],
   "source": [
    "# 전화번호 중 가운데 번호 획득하는 방법\n",
    "m.group().split()[1].split('-')[1]"
   ]
  },
  {
   "cell_type": "code",
   "execution_count": 228,
   "metadata": {},
   "outputs": [],
   "source": [
    "# 위의 방식은 정규식 자체가 그룹화 되지 않아서 \n",
    "# 세부 정보를 취할 수가 없다. \n",
    "# 그룹화를 이용하면 상세 정보를 그룹별로 취할 수가 있어서 \n",
    "# 데이터를 획득하기가 용이하다\n"
   ]
  },
  {
   "cell_type": "code",
   "execution_count": 230,
   "metadata": {},
   "outputs": [],
   "source": [
    "p = re.compile(r'(\\w+)\\s+(\\d+[-]\\d+[-]\\d+)')\n",
    "m = p.search('부산대역 010-1234-5678')\n",
    "\n"
   ]
  },
  {
   "cell_type": "code",
   "execution_count": 232,
   "metadata": {},
   "outputs": [
    {
     "data": {
      "text/plain": [
       "(('부산대역', '010-1234-5678'), '부산대역', '010-1234-5678')"
      ]
     },
     "execution_count": 232,
     "metadata": {},
     "output_type": "execute_result"
    }
   ],
   "source": [
    "m.groups(), m.group(1), m.group(2)"
   ]
  },
  {
   "cell_type": "code",
   "execution_count": 234,
   "metadata": {},
   "outputs": [
    {
     "name": "stdout",
     "output_type": "stream",
     "text": [
      "부산대역\n",
      "010-1234-5678\n"
     ]
    }
   ],
   "source": [
    "# for n in range(1,3)\n",
    "for n in range(1, len(m.groups())+1):\n",
    "       print(m.group(n))"
   ]
  },
  {
   "cell_type": "code",
   "execution_count": 236,
   "metadata": {},
   "outputs": [],
   "source": [
    "# 전화번호 상세 정보가 그룹화 되어 있지 않다.\n",
    "# >> 그룹 안에 그룹화 처리를 하면 자동 분류가 된다.\n",
    "\n",
    "p = re.compile(r'(\\w+)\\s+((\\d+)[-](\\d+)[-](\\d+))')\n",
    "m = p.search('부산대역 010-1234-5678')\n"
   ]
  },
  {
   "cell_type": "code",
   "execution_count": 237,
   "metadata": {},
   "outputs": [
    {
     "data": {
      "text/plain": [
       "('부산대역', '010-1234-5678', '010', '1234', '5678')"
      ]
     },
     "execution_count": 237,
     "metadata": {},
     "output_type": "execute_result"
    }
   ],
   "source": [
    "m.groups()"
   ]
  },
  {
   "cell_type": "code",
   "execution_count": 238,
   "metadata": {},
   "outputs": [
    {
     "name": "stdout",
     "output_type": "stream",
     "text": [
      "부산대역\n",
      "010-1234-5678\n",
      "010\n",
      "1234\n",
      "5678\n"
     ]
    }
   ],
   "source": [
    "for n in range(1, len(m.groups())+1):\n",
    "       print(m.group(n))"
   ]
  },
  {
   "cell_type": "markdown",
   "metadata": {},
   "source": [
    "#### 그룹핑된 문자열의 재창조\n",
    "\n",
    "- 그룹핑 : 첫번째 그룹, 두번째 그룹, 세번째 그룹....\n",
    "- \\1, \\2, \\3,......\n"
   ]
  },
  {
   "cell_type": "code",
   "execution_count": 256,
   "metadata": {},
   "outputs": [],
   "source": [
    "# 자기 참조는 정규식 형태도 일치하면서, 값이 일치 할 경우\n",
    "p = re.compile(r'(\\b\\w+)\\s+\\1') # 여기서 \\1는 첫번째 그룹을 의미함(다시 쓰기 귀찮아서 사용)\n",
    "m = p.search('python numpy pandas pandas tensorflow')"
   ]
  },
  {
   "cell_type": "code",
   "execution_count": 257,
   "metadata": {},
   "outputs": [
    {
     "data": {
      "text/plain": [
       "'pandas pandas'"
      ]
     },
     "execution_count": 257,
     "metadata": {},
     "output_type": "execute_result"
    }
   ],
   "source": [
    "m.group()"
   ]
  },
  {
   "cell_type": "code",
   "execution_count": 258,
   "metadata": {},
   "outputs": [
    {
     "data": {
      "text/plain": [
       "('pandas',)"
      ]
     },
     "execution_count": 258,
     "metadata": {},
     "output_type": "execute_result"
    }
   ],
   "source": [
    "m.groups()"
   ]
  },
  {
   "cell_type": "markdown",
   "metadata": {},
   "source": [
    "#### 그룹핑된 문자열 네이밍 처리 "
   ]
  },
  {
   "cell_type": "code",
   "execution_count": 248,
   "metadata": {},
   "outputs": [],
   "source": [
    "# (?P<이름>정규식)\n",
    "p = re.compile(r'(?P<NAME>\\w+)\\s+((\\d+)[-](\\d+)[-](\\d+))')\n",
    "m = p.search('부산대역 010-1234-5678')"
   ]
  },
  {
   "cell_type": "code",
   "execution_count": 249,
   "metadata": {},
   "outputs": [
    {
     "data": {
      "text/plain": [
       "('부산대역', '010-1234-5678', '010', '1234', '5678')"
      ]
     },
     "execution_count": 249,
     "metadata": {},
     "output_type": "execute_result"
    }
   ],
   "source": [
    "m.groups()"
   ]
  },
  {
   "cell_type": "code",
   "execution_count": 251,
   "metadata": {},
   "outputs": [
    {
     "data": {
      "text/plain": [
       "('부산대역', '부산대역')"
      ]
     },
     "execution_count": 251,
     "metadata": {},
     "output_type": "execute_result"
    }
   ],
   "source": [
    "# 이름을 부여하면 순서를 몰라도 된다.\n",
    "m.group(1), m.group('NAME')"
   ]
  },
  {
   "cell_type": "markdown",
   "metadata": {},
   "source": [
    "#### 자기 참조를 했는데 이름이 있다."
   ]
  },
  {
   "cell_type": "code",
   "execution_count": 252,
   "metadata": {},
   "outputs": [],
   "source": [
    "# 자기참조 그룹의 이름으로 자기참조를 수행하는 방법\n",
    "# (?P=이름)\n",
    "\n",
    "p = re.compile(r'(?P<BS>\\b\\w+)\\s+(?P=BS)') # (?P=BS)의 의미 : 그룹의 이름이 BS이다.\n",
    "m = p.search('python numpy pandas pandas tensorflow')"
   ]
  },
  {
   "cell_type": "code",
   "execution_count": 254,
   "metadata": {},
   "outputs": [
    {
     "data": {
      "text/plain": [
       "<re.Match object; span=(13, 26), match='pandas pandas'>"
      ]
     },
     "execution_count": 254,
     "metadata": {},
     "output_type": "execute_result"
    }
   ],
   "source": [
    "m"
   ]
  },
  {
   "cell_type": "code",
   "execution_count": null,
   "metadata": {},
   "outputs": [],
   "source": []
  },
  {
   "cell_type": "code",
   "execution_count": null,
   "metadata": {},
   "outputs": [],
   "source": []
  },
  {
   "cell_type": "code",
   "execution_count": null,
   "metadata": {},
   "outputs": [],
   "source": []
  },
  {
   "cell_type": "markdown",
   "metadata": {},
   "source": [
    "### 리뷰\n",
    "- 어떤 요구사항을 구현하는데, 같은 형태가 반복적으로 등장한다면\n",
    "- 그 형태가 데이터도 있고, 어떤(행위, 동사) 등 존재한다면\n",
    "- class라는 형태를 도입하는 것이 가장 쉽게 구현하는 방법잉다.\n",
    "    - 게임 : 총알(무한대로 발사, 속도, 이동한다, 데미지를 준다. 등등)\n",
    "    - GUI : 윈도우, 팝업(화면에 보인다, 안보인다, 메시지, 좌표)\n",
    "\n",
    "- class는 데이터(멤버 변수), 행동(멤버 함수)로 구성된다. (몇 가지 추가 요소가 있다.)\n",
    "    - 추가 요소 : 생성자 >> def __init__(self) : pass\n",
    "    - 생성자는 언제 호출 되는가?\n",
    "        - 객체를 생성하면 \n",
    "            - 객체는 class를 메모리 공간에 할당하면 그것을 객체라고 부른다.\n",
    "            - class의 인스턴스가 객체이다. >> 똑같은 것들을 찍어낼 수 있어서 인스턴스라고 부름.\n",
    "            - 객체를 생성하면 내부적으로는 생성자가 자동 호출된다.\n",
    "            - 생성자 함수 내부가 객체가 생성될 때 가장 먼저 수행할 일들을 구현하면 된다. (예, 멤버 면수 초               기화)\n",
    "            - 객체를 생성하면 (생성자가 호출되면) 메모리를 할당하고 내부적으로 알 수 없는 작업들이 모두 끝               객체의 주소를 반환한다.\n",
    "            - p = Person()\n",
    "            - p는 Person 객체를 가르키는 주소를 담고 있는 레퍼런스 변수, 인스턴스 변수, 객체 변수 등등 "
   ]
  },
  {
   "cell_type": "code",
   "execution_count": 17,
   "metadata": {},
   "outputs": [],
   "source": [
    "# 동물 class define\n",
    "class Ani:\n",
    "    \n",
    "    # 멤버 변수\n",
    "    name = None\n",
    "    # 멤버 함수, 모든 멤버 함수의 1번 인자는 self\n",
    "    def eat(self, food):\n",
    "        print(food +'를 먹는다')\n",
    "    # 생성자(생략 가능)\n",
    "    #def __init__(self):\n",
    "        #pass\n"
   ]
  },
  {
   "cell_type": "code",
   "execution_count": 18,
   "metadata": {},
   "outputs": [],
   "source": [
    "# 사용하기 위해 1. 생성\n",
    "a =Ani()"
   ]
  },
  {
   "cell_type": "code",
   "execution_count": 19,
   "metadata": {},
   "outputs": [
    {
     "name": "stdout",
     "output_type": "stream",
     "text": [
      "None\n"
     ]
    }
   ],
   "source": [
    "# 2. 사용 >> 변수.멤버변수, 변수.멤버함수\n",
    "print(a.name)"
   ]
  },
  {
   "cell_type": "code",
   "execution_count": 20,
   "metadata": {},
   "outputs": [
    {
     "name": "stdout",
     "output_type": "stream",
     "text": [
      "강아지\n"
     ]
    }
   ],
   "source": [
    "a.name = '강아지'\n",
    "print(a.name)"
   ]
  },
  {
   "cell_type": "code",
   "execution_count": 21,
   "metadata": {},
   "outputs": [
    {
     "name": "stdout",
     "output_type": "stream",
     "text": [
      "사료를 먹는다\n"
     ]
    }
   ],
   "source": [
    "a.eat('사료')"
   ]
  },
  {
   "cell_type": "code",
   "execution_count": 255,
   "metadata": {},
   "outputs": [],
   "source": [
    "# 언어권 유니코드는 \\u값(16진수0x를 제외한)-\\u 값\n",
    "# 16진수로 특수문자 범위표시 \\x값-\\x값"
   ]
  },
  {
   "cell_type": "code",
   "execution_count": null,
   "metadata": {},
   "outputs": [],
   "source": []
  },
  {
   "cell_type": "code",
   "execution_count": null,
   "metadata": {},
   "outputs": [],
   "source": []
  },
  {
   "cell_type": "code",
   "execution_count": null,
   "metadata": {},
   "outputs": [],
   "source": []
  },
  {
   "cell_type": "code",
   "execution_count": null,
   "metadata": {},
   "outputs": [],
   "source": []
  },
  {
   "cell_type": "code",
   "execution_count": null,
   "metadata": {},
   "outputs": [],
   "source": []
  },
  {
   "cell_type": "code",
   "execution_count": null,
   "metadata": {},
   "outputs": [],
   "source": []
  },
  {
   "cell_type": "code",
   "execution_count": null,
   "metadata": {},
   "outputs": [],
   "source": []
  },
  {
   "cell_type": "code",
   "execution_count": null,
   "metadata": {},
   "outputs": [],
   "source": []
  }
 ],
 "metadata": {
  "kernelspec": {
   "display_name": "Python 3",
   "language": "python",
   "name": "python3"
  },
  "language_info": {
   "codemirror_mode": {
    "name": "ipython",
    "version": 3
   },
   "file_extension": ".py",
   "mimetype": "text/x-python",
   "name": "python",
   "nbconvert_exporter": "python",
   "pygments_lexer": "ipython3",
   "version": "3.7.4"
  }
 },
 "nbformat": 4,
 "nbformat_minor": 2
}
