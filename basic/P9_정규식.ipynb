{
 "cells": [
  {
   "cell_type": "markdown",
   "metadata": {},
   "source": [
    "### 정규식\n",
    "\n",
    "- 정규 표현식\n",
    "- Regular Expression\n",
    "- 복잡한 문자열을 처리할 때 사용하는 기법\n",
    "    - 문자열에서 원하는 데이터만 추출, 가공, 삭제 >> 전처리/정제\n"
   ]
  },
  {
   "cell_type": "code",
   "execution_count": 1,
   "metadata": {},
   "outputs": [],
   "source": [
    "# 1. 모듈 가져오기\n",
    "\n",
    "import re"
   ]
  },
  {
   "cell_type": "markdown",
   "metadata": {},
   "source": [
    "- 메타문자(meta characters)  \n",
    "<br> : 다른 문자의 정보를 전달하기 위하여 프로그램이나 데이터에 끼워 넣는 문자\n",
    "    - 일반 표현 : |, ^, $, *, +, {},(), []\n",
    "    - 이스케이프 표현 : \\d, \\D, \\s, \\S, \\w, \\W, \\b, \\B.....  \n",
    "    <br>\n",
    "      (기존 문자의 기능을 탈출(Escape)하고 새로운 기능을 부여받은 문자를 의미한다.)\n",
    "   \n",
    "- 함수\n",
    "    - match()\n",
    "    - search()\n",
    "    - findall()\n",
    "    - finditer()\n",
    "    - sub()\n",
    "\n",
    "- 그룹핑\n",
    "- 전방탐색\n",
    "    - 긍정형 전방 탐색\n",
    "    - 부정형 전방 탐색 \n",
    "    \n",
    "- 컴파일 옵션\n"
   ]
  },
  {
   "cell_type": "code",
   "execution_count": 5,
   "metadata": {},
   "outputs": [
    {
     "data": {
      "text/plain": [
       "'\\nThe group initially'"
      ]
     },
     "execution_count": 5,
     "metadata": {},
     "output_type": "execute_result"
    }
   ],
   "source": [
    "test_text = \"\"\"\n",
    "The group initially formed as teenagers under Big Hit Entertainment \n",
    "and released their debut single album, 2 Cool 4 Skool (2013). \n",
    "Subsequent work such as their first U.S. \n",
    "Billboard 200 entries The Most Beautiful Moment in Life, Part 2 (2015), T\n",
    "he Most Beautiful Moment in Life: Young Forever (2016), \n",
    "and Wings (2016) helped establish BTS' \n",
    "reputation as a socially conscious group. Wings became BTS' \n",
    "first album to sell one million copies in South Korea. By 2017, \n",
    "BTS crossed into the international music market, \n",
    "leading the Korean Wave into the United States \n",
    "and breaking numerous sales records, \n",
    "becoming the first Korean group to receive a certification \n",
    "from the Recording Industry Association of America (RIAA)\n",
    "for their single \"Mic Drop\". \n",
    "The band is the first Korean act to top the Billboard 200 with their studio album Love Yourself: \n",
    "Tear (2018) and have since hit the top of the U.S. charts with their albums Love Yourself: \n",
    "Answer (2018) and Map of the Soul: Persona (2019), \n",
    "making BTS the first group since the Beatles to earn three number one albums in less than a year.\n",
    "Love Yourself: Answer also broke South Korea's Gaon Album Chart's \n",
    "\"\"\"\n",
    "\n",
    "test_text[:20]"
   ]
  },
  {
   "cell_type": "code",
   "execution_count": 7,
   "metadata": {},
   "outputs": [],
   "source": [
    "# 원문에서 한글 제거\n",
    "# 한글 초성 + 중성 + 종성 >> euc-kr, 16-bit >> 조합형 코드\n",
    "# 한글 가, 갸, 거, 겨,... >> utf-8, 8-bit >> 완성형 코드\n",
    "# 완성형 기준 >> ㄱ 부터 시작 >> ㅣ 에서 끝남 >> 가 부터 시작 >> 힣 에서 끝남\n",
    "# hangul = re.compile('[ㄱ-ㅣ가-힣]+') >> 한글을 정규표현식으로 씀 "
   ]
  },
  {
   "cell_type": "code",
   "execution_count": 8,
   "metadata": {},
   "outputs": [],
   "source": [
    "# hangul.sub('',test_text)[:100] >> 한글이 사라짐"
   ]
  },
  {
   "cell_type": "code",
   "execution_count": 9,
   "metadata": {},
   "outputs": [],
   "source": [
    "# alpha = re.compile('[a-zA-Z]+')\n",
    "# alpha.sub('',test_text)[:100] >> test_text에서 알파벳으로 표현된 부분이 사라짐"
   ]
  },
  {
   "cell_type": "code",
   "execution_count": null,
   "metadata": {},
   "outputs": [],
   "source": []
  },
  {
   "cell_type": "code",
   "execution_count": null,
   "metadata": {},
   "outputs": [],
   "source": []
  },
  {
   "cell_type": "code",
   "execution_count": null,
   "metadata": {},
   "outputs": [],
   "source": []
  },
  {
   "cell_type": "code",
   "execution_count": null,
   "metadata": {},
   "outputs": [],
   "source": []
  },
  {
   "cell_type": "code",
   "execution_count": null,
   "metadata": {},
   "outputs": [],
   "source": []
  },
  {
   "cell_type": "code",
   "execution_count": null,
   "metadata": {},
   "outputs": [],
   "source": []
  },
  {
   "cell_type": "code",
   "execution_count": null,
   "metadata": {},
   "outputs": [],
   "source": []
  },
  {
   "cell_type": "code",
   "execution_count": null,
   "metadata": {},
   "outputs": [],
   "source": []
  },
  {
   "cell_type": "code",
   "execution_count": null,
   "metadata": {},
   "outputs": [],
   "source": []
  },
  {
   "cell_type": "code",
   "execution_count": null,
   "metadata": {},
   "outputs": [],
   "source": []
  },
  {
   "cell_type": "code",
   "execution_count": null,
   "metadata": {},
   "outputs": [],
   "source": []
  },
  {
   "cell_type": "code",
   "execution_count": null,
   "metadata": {},
   "outputs": [],
   "source": []
  },
  {
   "cell_type": "code",
   "execution_count": null,
   "metadata": {},
   "outputs": [],
   "source": []
  },
  {
   "cell_type": "code",
   "execution_count": null,
   "metadata": {},
   "outputs": [],
   "source": []
  },
  {
   "cell_type": "code",
   "execution_count": null,
   "metadata": {},
   "outputs": [],
   "source": []
  }
 ],
 "metadata": {
  "kernelspec": {
   "display_name": "Python 3",
   "language": "python",
   "name": "python3"
  },
  "language_info": {
   "codemirror_mode": {
    "name": "ipython",
    "version": 3
   },
   "file_extension": ".py",
   "mimetype": "text/x-python",
   "name": "python",
   "nbconvert_exporter": "python",
   "pygments_lexer": "ipython3",
   "version": "3.7.4"
  }
 },
 "nbformat": 4,
 "nbformat_minor": 2
}
